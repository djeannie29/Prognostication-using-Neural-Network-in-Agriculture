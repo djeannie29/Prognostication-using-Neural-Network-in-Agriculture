{
 "cells": [
  {
   "cell_type": "markdown",
   "metadata": {},
   "source": [
    "<p style=\"text-align:center\">\n",
    "    <a href=\"https://skills.network/?utm_medium=Exinfluencer&utm_source=Exinfluencer&utm_content=000026UJ&utm_term=10006555&utm_id=NA-SkillsNetwork-Channel-SkillsNetworkGuidedProjectsdatascienceinagricultureprognosticationusingbyneuralnetwork466-2022-01-01\" target=\"_blank\">\n",
    "    <img src=\"https://cf-courses-data.s3.us.cloud-object-storage.appdomain.cloud/assets/logos/SN_web_lightmode.png\" width=\"200\" alt=\"Skills Network Logo\">\n",
    "    </a>\n",
    "</p>\n"
   ]
  },
  {
   "cell_type": "markdown",
   "metadata": {},
   "source": [
    "## **Prognostication using Neural Network in Agriculture**\n"
   ]
  },
  {
   "cell_type": "markdown",
   "metadata": {},
   "source": [
    "Estaimted time needed: **1** hour\n"
   ]
  },
  {
   "cell_type": "markdown",
   "metadata": {},
   "source": [
    "## Abstract\n"
   ]
  },
  {
   "cell_type": "markdown",
   "metadata": {},
   "source": [
    "This laboratory is designed to study forecasting based on BigData methods through the example of pesticide sales. We will learn how to make predictions based on linear regression and two frameworks for building neural networks, as well as obtain statistics and compare results.\n"
   ]
  },
  {
   "cell_type": "markdown",
   "metadata": {},
   "source": [
    "## Introduction\n"
   ]
  },
  {
   "cell_type": "markdown",
   "metadata": {},
   "source": [
    "Nowadays, there is a lot of open data about agriculture statistics in the world. However, few tools are presented to predict and visualize these processes. This laboratory work will show how to download data from open sources, perform preliminary data analysis, transform and clear data, perform correlation.\n",
    "\n",
    "Next we will consider 2 different mathematical approaches to the calculation of a forecast based on linear regression.\n",
    "\n",
    "To do this, the division of the DataSet into training and test sets will be demonstrated. It will be shown how to build models using 2 different frameworks. Then we will build a forecast and analyze the accuracy and adequacy of the obtained models.\n",
    "\n",
    "Then two different Neuro Networks will be build and fitted. We will study how to normalize and inverse normalize data. At the end we will compare all the results.\n"
   ]
  },
  {
   "cell_type": "markdown",
   "metadata": {},
   "source": [
    "## Materials and methods\n"
   ]
  },
  {
   "cell_type": "markdown",
   "metadata": {},
   "source": [
    "In this lab, we will learn the basic methods of forecasting using Linear Regression and Neural Networks. The lab consists of three stages:\n",
    "* Download and preliminary analysis of data\n",
    "* Forecasting\n",
    "* Artificial Neural Networks\n",
    "\n",
    "The first stage will show you how to download data and pre-prepare it for the analysis:\n",
    "* downloading data\n",
    "* changing the data types of columns\n",
    "* grouping data\n",
    "* DataSet transformation\n",
    "\n",
    "At the stage of forecasting, we will deal with the methods of building and fitting models, as well as with the automation of statistical information calculation, in particular:\n",
    "* hypothesis creation\n",
    "* splitting the DataSet into training and test sets\n",
    "* creating a linear model using sklearn\n",
    "* calculation of basic statistical indicators\n",
    "* creating a linear model using statsmodels\n",
    "\n",
    "At the stage of Artificial Neural Networks, we will deal with the methods of building and fitting models based on Artificial Intelligence:\n",
    "* creating a linear model using Scikit-learn\n",
    "* creating a linear model using keras\n"
   ]
  },
  {
   "cell_type": "markdown",
   "metadata": {},
   "source": [
    "The statistical data was obtained from the https://ec.europa.eu/eurostat/databrowser/view/aact_eaa01/default/table?lang=en. Eurostat has a policy of encouraging free re-use of its data, both for non-commercial and commercial purposes.\n"
   ]
  },
  {
   "cell_type": "markdown",
   "metadata": {},
   "source": [
    "## Prerequisites\n",
    "* Python - basic level\n",
    "* [Pandas](https://pandas.pydata.org/?utm_medium=Exinfluencer&utm_source=Exinfluencer&utm_content=000026UJ&utm_term=10006555&utm_id=NA-SkillsNetwork-Channel-SkillsNetworkGuidedProjectsdatascienceinagricultureprognosticationusingbyneuralnetwork466-2022-01-01) - basic level\n",
    "* [SeaBorn](https://seaborn.pydata.org/?utm_medium=Exinfluencer&utm_source=Exinfluencer&utm_content=000026UJ&utm_term=10006555&utm_id=NA-SkillsNetwork-Channel-SkillsNetworkGuidedProjectsdatascienceinagricultureprognosticationusingbyneuralnetwork466-2022-01-01) - basic level\n",
    "* Statistics - basic level\n",
    "* [Scikit-learn](https://scikit-learn.org/stable/?utm_medium=Exinfluencer&utm_source=Exinfluencer&utm_content=000026UJ&utm_term=10006555&utm_id=NA-SkillsNetwork-Channel-SkillsNetworkGuidedProjectsdatascienceinagricultureprognosticationusingbyneuralnetwork466-2022-01-01) - basic level\n",
    "* [keras](https://keras.io/?utm_medium=Exinfluencer&utm_source=Exinfluencer&utm_content=000026UJ&utm_term=10006555&utm_id=NA-SkillsNetwork-Channel-SkillsNetworkGuidedProjectsdatascienceinagricultureprognosticationusingbyneuralnetwork466-2022-01-01) - basic level\n"
   ]
  },
  {
   "cell_type": "markdown",
   "metadata": {},
   "source": [
    "## Objectives\n"
   ]
  },
  {
   "cell_type": "markdown",
   "metadata": {},
   "source": [
    "After completing this lab, you will be able to:\n"
   ]
  },
  {
   "cell_type": "markdown",
   "metadata": {},
   "source": [
    "* Download a DataSet from *.csv files\n",
    "* Automatically change data in the DataSet\n",
    "* Transform a table\n",
    "* Visualize data with pandas and seaborn\n",
    "* Make Linear forecast models\n",
    "* Build and fit Neural Networks\n"
   ]
  },
  {
   "cell_type": "markdown",
   "metadata": {},
   "source": [
    "## Install the required libraries \n"
   ]
  },
  {
   "cell_type": "markdown",
   "metadata": {},
   "source": [
    "We need to install additional libraries and upgrade existing ones in the lab.\n"
   ]
  },
  {
   "cell_type": "code",
   "execution_count": 1,
   "metadata": {
    "tags": []
   },
   "outputs": [],
   "source": [
    "# conda install -c intel scikit-learn"
   ]
  },
  {
   "cell_type": "code",
   "execution_count": 2,
   "metadata": {
    "tags": []
   },
   "outputs": [],
   "source": [
    "# conda install -c conda-forge pycountry"
   ]
  },
  {
   "cell_type": "code",
   "execution_count": 3,
   "metadata": {
    "tags": []
   },
   "outputs": [
    {
     "name": "stdout",
     "output_type": "stream",
     "text": [
      "Collecting package metadata (current_repodata.json): | WARNING conda.models.version:get_matcher(546): Using .* with relational operator is superfluous and deprecated and will be removed in a future version of conda. Your spec was 1.7.1.*, but conda is ignoring the .* and treating it as 1.7.1\n",
      "done\n",
      "Solving environment: done\n",
      "\n",
      "\n",
      "==> WARNING: A newer version of conda exists. <==\n",
      "  current version: 23.3.1\n",
      "  latest version: 24.5.0\n",
      "\n",
      "Please update conda by running\n",
      "\n",
      "    $ conda update -n base -c conda-forge conda\n",
      "\n",
      "Or to minimize the number of packages updated during conda update use\n",
      "\n",
      "     conda install conda=24.5.0\n",
      "\n",
      "\n",
      "\n",
      "# All requested packages already installed.\n",
      "\n",
      "\n",
      "Note: you may need to restart the kernel to use updated packages.\n"
     ]
    }
   ],
   "source": [
    "conda install -c conda-forge tensorflow --yes"
   ]
  },
  {
   "cell_type": "code",
   "execution_count": 4,
   "metadata": {
    "tags": []
   },
   "outputs": [
    {
     "name": "stdout",
     "output_type": "stream",
     "text": [
      "Collecting package metadata (current_repodata.json): | WARNING conda.models.version:get_matcher(546): Using .* with relational operator is superfluous and deprecated and will be removed in a future version of conda. Your spec was 1.7.1.*, but conda is ignoring the .* and treating it as 1.7.1\n",
      "done\n",
      "Solving environment: done\n",
      "\n",
      "\n",
      "==> WARNING: A newer version of conda exists. <==\n",
      "  current version: 23.3.1\n",
      "  latest version: 24.5.0\n",
      "\n",
      "Please update conda by running\n",
      "\n",
      "    $ conda update -n base -c conda-forge conda\n",
      "\n",
      "Or to minimize the number of packages updated during conda update use\n",
      "\n",
      "     conda install conda=24.5.0\n",
      "\n",
      "\n",
      "\n",
      "## Package Plan ##\n",
      "\n",
      "  environment location: /home/jupyterlab/conda/envs/python\n",
      "\n",
      "  added / updated specs:\n",
      "    - keras\n",
      "\n",
      "\n",
      "The following packages will be downloaded:\n",
      "\n",
      "    package                    |            build\n",
      "    ---------------------------|-----------------\n",
      "    keras-2.3.1                |           py37_0         591 KB  conda-forge\n",
      "    libgpuarray-0.7.6          |    h7f98852_1003         245 KB  conda-forge\n",
      "    mako-1.3.5                 |     pyhd8ed1ab_0          66 KB  conda-forge\n",
      "    pygpu-0.7.6                |py37hb1e94ed_1003         664 KB  conda-forge\n",
      "    theano-1.0.5               |   py37h745909e_1         3.7 MB  conda-forge\n",
      "    ------------------------------------------------------------\n",
      "                                           Total:         5.2 MB\n",
      "\n",
      "The following NEW packages will be INSTALLED:\n",
      "\n",
      "  keras              conda-forge/linux-64::keras-2.3.1-py37_0 \n",
      "  libgpuarray        conda-forge/linux-64::libgpuarray-0.7.6-h7f98852_1003 \n",
      "  mako               conda-forge/noarch::mako-1.3.5-pyhd8ed1ab_0 \n",
      "  pygpu              conda-forge/linux-64::pygpu-0.7.6-py37hb1e94ed_1003 \n",
      "  theano             conda-forge/linux-64::theano-1.0.5-py37h745909e_1 \n",
      "\n",
      "\n",
      "\n",
      "Downloading and Extracting Packages\n",
      "theano-1.0.5         | 3.7 MB    |                                       |   0% \n",
      "mako-1.3.5           | 66 KB     |                                       |   0% \u001b[A\n",
      "\n",
      "libgpuarray-0.7.6    | 245 KB    |                                       |   0% \u001b[A\u001b[A\n",
      "\n",
      "\n",
      "pygpu-0.7.6          | 664 KB    |                                       |   0% \u001b[A\u001b[A\u001b[A\n",
      "\n",
      "\n",
      "\n",
      "theano-1.0.5         | 3.7 MB    | 1                                     |   0% \u001b[A\u001b[A\u001b[A\u001b[A\n",
      "\n",
      "libgpuarray-0.7.6    | 245 KB    | ##4                                   |   7% \u001b[A\u001b[A\n",
      "theano-1.0.5         | 3.7 MB    | ###############################3      |  85% \u001b[A\n",
      "\n",
      "\n",
      "\n",
      "keras-2.3.1          | 591 KB    | #                                     |   3% \u001b[A\u001b[A\u001b[A\u001b[A\n",
      "\n",
      "\n",
      "pygpu-0.7.6          | 664 KB    | 8                                     |   2% \u001b[A\u001b[A\u001b[A\n",
      "\n",
      "\n",
      "\n",
      "keras-2.3.1          | 591 KB    | #################                     |  46% \u001b[A\u001b[A\u001b[A\u001b[A\n",
      "\n",
      "\n",
      "pygpu-0.7.6          | 664 KB    | ###################################6  |  96% \u001b[A\u001b[A\u001b[A\n",
      "mako-1.3.5           | 66 KB     | ##################################### | 100% \u001b[A\n",
      "mako-1.3.5           | 66 KB     | ##################################### | 100% \u001b[A\n",
      "\n",
      "libgpuarray-0.7.6    | 245 KB    | ##################################### | 100% \u001b[A\u001b[A\n",
      "\n",
      "libgpuarray-0.7.6    | 245 KB    | ##################################### | 100% \u001b[A\u001b[A\n",
      "\n",
      "\n",
      "pygpu-0.7.6          | 664 KB    | ##################################### | 100% \u001b[A\u001b[A\u001b[A\n",
      "\n",
      "\n",
      "\n",
      "keras-2.3.1          | 591 KB    | ##################################### | 100% \u001b[A\u001b[A\u001b[A\u001b[A\n",
      "\n",
      "\n",
      "\n",
      "                                                                                \u001b[A\u001b[A\u001b[A\u001b[A\n",
      "                                                                                \u001b[A\n",
      "\n",
      "                                                                                \u001b[A\u001b[A\n",
      "\n",
      "\n",
      "                                                                                \u001b[A\u001b[A\u001b[A\n",
      "\n",
      "\n",
      "\n",
      "                                                                                \u001b[A\u001b[A\u001b[A\u001b[A\n",
      "Preparing transaction: done\n",
      "Verifying transaction: done\n",
      "Executing transaction: done\n",
      "\n",
      "Note: you may need to restart the kernel to use updated packages.\n"
     ]
    }
   ],
   "source": [
    "conda install -c conda-forge keras --yes"
   ]
  },
  {
   "cell_type": "markdown",
   "metadata": {},
   "source": [
    "## Download and preliminary analysis of data\n"
   ]
  },
  {
   "cell_type": "markdown",
   "metadata": {},
   "source": [
    "### Downloading data\n"
   ]
  },
  {
   "cell_type": "markdown",
   "metadata": {},
   "source": [
    "Some libraries should be imported before you can begin.\n"
   ]
  },
  {
   "cell_type": "code",
   "execution_count": 8,
   "metadata": {
    "tags": []
   },
   "outputs": [],
   "source": [
    "import pandas as pd\n",
    "import numpy as np"
   ]
  },
  {
   "cell_type": "markdown",
   "metadata": {},
   "source": [
    "The next step is to download the data file from the repository using the **[read_csv()](https://pandas.pydata.org/docs/reference/api/pandas.read_csv.html?utm_medium=Exinfluencer&utm_source=Exinfluencer&utm_content=000026UJ&utm_term=10006555&utm_id=NA-SkillsNetwork-Channel-SkillsNetworkGuidedProjectsdatascienceinagricultureprognosticationusingbyneuralnetwork466-2022-01-01)**. Let's download data about pesticide sales: https://ec.europa.eu/eurostat/databrowser/view/AEI_FM_SALPEST09__custom_1145078/default/table?lang=enhttps://ec.europa.eu/eurostat/databrowser/view/AEI_FM_SALPEST09__custom_1145078/default/table?lang=en\n"
   ]
  },
  {
   "cell_type": "code",
   "execution_count": 6,
   "metadata": {
    "tags": []
   },
   "outputs": [
    {
     "data": {
      "text/html": [
       "<div>\n",
       "<style scoped>\n",
       "    .dataframe tbody tr th:only-of-type {\n",
       "        vertical-align: middle;\n",
       "    }\n",
       "\n",
       "    .dataframe tbody tr th {\n",
       "        vertical-align: top;\n",
       "    }\n",
       "\n",
       "    .dataframe thead th {\n",
       "        text-align: right;\n",
       "    }\n",
       "</style>\n",
       "<table border=\"1\" class=\"dataframe\">\n",
       "  <thead>\n",
       "    <tr style=\"text-align: right;\">\n",
       "      <th></th>\n",
       "      <th>DATAFLOW</th>\n",
       "      <th>LAST UPDATE</th>\n",
       "      <th>freq</th>\n",
       "      <th>pesticid</th>\n",
       "      <th>unit</th>\n",
       "      <th>geo</th>\n",
       "      <th>TIME_PERIOD</th>\n",
       "      <th>OBS_VALUE</th>\n",
       "      <th>OBS_FLAG</th>\n",
       "    </tr>\n",
       "  </thead>\n",
       "  <tbody>\n",
       "    <tr>\n",
       "      <th>0</th>\n",
       "      <td>ESTAT:AEI_FM_SALPEST09(1.0)</td>\n",
       "      <td>11/05/21 23:00:00</td>\n",
       "      <td>A</td>\n",
       "      <td>F</td>\n",
       "      <td>KG</td>\n",
       "      <td>AT</td>\n",
       "      <td>2011</td>\n",
       "      <td>1544218.0</td>\n",
       "      <td>NaN</td>\n",
       "    </tr>\n",
       "    <tr>\n",
       "      <th>1</th>\n",
       "      <td>ESTAT:AEI_FM_SALPEST09(1.0)</td>\n",
       "      <td>11/05/21 23:00:00</td>\n",
       "      <td>A</td>\n",
       "      <td>F</td>\n",
       "      <td>KG</td>\n",
       "      <td>AT</td>\n",
       "      <td>2012</td>\n",
       "      <td>1634371.0</td>\n",
       "      <td>NaN</td>\n",
       "    </tr>\n",
       "    <tr>\n",
       "      <th>2</th>\n",
       "      <td>ESTAT:AEI_FM_SALPEST09(1.0)</td>\n",
       "      <td>11/05/21 23:00:00</td>\n",
       "      <td>A</td>\n",
       "      <td>F</td>\n",
       "      <td>KG</td>\n",
       "      <td>AT</td>\n",
       "      <td>2013</td>\n",
       "      <td>1492799.0</td>\n",
       "      <td>NaN</td>\n",
       "    </tr>\n",
       "    <tr>\n",
       "      <th>3</th>\n",
       "      <td>ESTAT:AEI_FM_SALPEST09(1.0)</td>\n",
       "      <td>11/05/21 23:00:00</td>\n",
       "      <td>A</td>\n",
       "      <td>F</td>\n",
       "      <td>KG</td>\n",
       "      <td>AT</td>\n",
       "      <td>2014</td>\n",
       "      <td>1641055.0</td>\n",
       "      <td>NaN</td>\n",
       "    </tr>\n",
       "    <tr>\n",
       "      <th>4</th>\n",
       "      <td>ESTAT:AEI_FM_SALPEST09(1.0)</td>\n",
       "      <td>11/05/21 23:00:00</td>\n",
       "      <td>A</td>\n",
       "      <td>F</td>\n",
       "      <td>KG</td>\n",
       "      <td>AT</td>\n",
       "      <td>2015</td>\n",
       "      <td>2130973.0</td>\n",
       "      <td>NaN</td>\n",
       "    </tr>\n",
       "    <tr>\n",
       "      <th>...</th>\n",
       "      <td>...</td>\n",
       "      <td>...</td>\n",
       "      <td>...</td>\n",
       "      <td>...</td>\n",
       "      <td>...</td>\n",
       "      <td>...</td>\n",
       "      <td>...</td>\n",
       "      <td>...</td>\n",
       "      <td>...</td>\n",
       "    </tr>\n",
       "    <tr>\n",
       "      <th>1640</th>\n",
       "      <td>ESTAT:AEI_FM_SALPEST09(1.0)</td>\n",
       "      <td>11/05/21 23:00:00</td>\n",
       "      <td>A</td>\n",
       "      <td>ZR</td>\n",
       "      <td>KG</td>\n",
       "      <td>UK</td>\n",
       "      <td>2015</td>\n",
       "      <td>NaN</td>\n",
       "      <td>cd</td>\n",
       "    </tr>\n",
       "    <tr>\n",
       "      <th>1641</th>\n",
       "      <td>ESTAT:AEI_FM_SALPEST09(1.0)</td>\n",
       "      <td>11/05/21 23:00:00</td>\n",
       "      <td>A</td>\n",
       "      <td>ZR</td>\n",
       "      <td>KG</td>\n",
       "      <td>UK</td>\n",
       "      <td>2016</td>\n",
       "      <td>NaN</td>\n",
       "      <td>c</td>\n",
       "    </tr>\n",
       "    <tr>\n",
       "      <th>1642</th>\n",
       "      <td>ESTAT:AEI_FM_SALPEST09(1.0)</td>\n",
       "      <td>11/05/21 23:00:00</td>\n",
       "      <td>A</td>\n",
       "      <td>ZR</td>\n",
       "      <td>KG</td>\n",
       "      <td>UK</td>\n",
       "      <td>2017</td>\n",
       "      <td>270493.0</td>\n",
       "      <td>NaN</td>\n",
       "    </tr>\n",
       "    <tr>\n",
       "      <th>1643</th>\n",
       "      <td>ESTAT:AEI_FM_SALPEST09(1.0)</td>\n",
       "      <td>11/05/21 23:00:00</td>\n",
       "      <td>A</td>\n",
       "      <td>ZR</td>\n",
       "      <td>KG</td>\n",
       "      <td>UK</td>\n",
       "      <td>2018</td>\n",
       "      <td>NaN</td>\n",
       "      <td>c</td>\n",
       "    </tr>\n",
       "    <tr>\n",
       "      <th>1644</th>\n",
       "      <td>ESTAT:AEI_FM_SALPEST09(1.0)</td>\n",
       "      <td>11/05/21 23:00:00</td>\n",
       "      <td>A</td>\n",
       "      <td>ZR</td>\n",
       "      <td>KG</td>\n",
       "      <td>UK</td>\n",
       "      <td>2019</td>\n",
       "      <td>255061.0</td>\n",
       "      <td>NaN</td>\n",
       "    </tr>\n",
       "  </tbody>\n",
       "</table>\n",
       "<p>1645 rows × 9 columns</p>\n",
       "</div>"
      ],
      "text/plain": [
       "                         DATAFLOW        LAST UPDATE freq pesticid unit geo  \\\n",
       "0     ESTAT:AEI_FM_SALPEST09(1.0)  11/05/21 23:00:00    A        F   KG  AT   \n",
       "1     ESTAT:AEI_FM_SALPEST09(1.0)  11/05/21 23:00:00    A        F   KG  AT   \n",
       "2     ESTAT:AEI_FM_SALPEST09(1.0)  11/05/21 23:00:00    A        F   KG  AT   \n",
       "3     ESTAT:AEI_FM_SALPEST09(1.0)  11/05/21 23:00:00    A        F   KG  AT   \n",
       "4     ESTAT:AEI_FM_SALPEST09(1.0)  11/05/21 23:00:00    A        F   KG  AT   \n",
       "...                           ...                ...  ...      ...  ...  ..   \n",
       "1640  ESTAT:AEI_FM_SALPEST09(1.0)  11/05/21 23:00:00    A       ZR   KG  UK   \n",
       "1641  ESTAT:AEI_FM_SALPEST09(1.0)  11/05/21 23:00:00    A       ZR   KG  UK   \n",
       "1642  ESTAT:AEI_FM_SALPEST09(1.0)  11/05/21 23:00:00    A       ZR   KG  UK   \n",
       "1643  ESTAT:AEI_FM_SALPEST09(1.0)  11/05/21 23:00:00    A       ZR   KG  UK   \n",
       "1644  ESTAT:AEI_FM_SALPEST09(1.0)  11/05/21 23:00:00    A       ZR   KG  UK   \n",
       "\n",
       "      TIME_PERIOD  OBS_VALUE OBS_FLAG  \n",
       "0            2011  1544218.0      NaN  \n",
       "1            2012  1634371.0      NaN  \n",
       "2            2013  1492799.0      NaN  \n",
       "3            2014  1641055.0      NaN  \n",
       "4            2015  2130973.0      NaN  \n",
       "...           ...        ...      ...  \n",
       "1640         2015        NaN       cd  \n",
       "1641         2016        NaN        c  \n",
       "1642         2017   270493.0      NaN  \n",
       "1643         2018        NaN        c  \n",
       "1644         2019   255061.0      NaN  \n",
       "\n",
       "[1645 rows x 9 columns]"
      ]
     },
     "execution_count": 6,
     "metadata": {},
     "output_type": "execute_result"
    }
   ],
   "source": [
    "df = pd.read_csv('https://cf-courses-data.s3.us.cloud-object-storage.appdomain.cloud/data-science-in-agriculture-prognostication-using-by-neural-network/aei_fm_salpest09__custom_1145078_20210714_093842.sdmx.csv')\n",
    "df"
   ]
  },
  {
   "cell_type": "markdown",
   "metadata": {},
   "source": [
    "As you can see, the DataSet consists of 1645 rows and 9 columns. Let's study the columns.\n"
   ]
  },
  {
   "cell_type": "code",
   "execution_count": 7,
   "metadata": {
    "tags": []
   },
   "outputs": [
    {
     "data": {
      "text/plain": [
       "Index(['DATAFLOW', 'LAST UPDATE', 'freq', 'pesticid', 'unit', 'geo',\n",
       "       'TIME_PERIOD', 'OBS_VALUE', 'OBS_FLAG'],\n",
       "      dtype='object')"
      ]
     },
     "execution_count": 7,
     "metadata": {},
     "output_type": "execute_result"
    }
   ],
   "source": [
    "col = df.columns\n",
    "col"
   ]
  },
  {
   "cell_type": "markdown",
   "metadata": {},
   "source": [
    "In this lab, we will try to build a sales forecast of one pesticide type.\n",
    "As you can see from the table, we don't need to use all the columns to make this forecast because some columns contain similar data. For forecasting we need to know only the data from columns: 'pesticid', 'geo', 'TIME_PERIOD', 'OBS_VALUE'.\n",
    "\n",
    "Let's select the necessary columns.\n"
   ]
  },
  {
   "cell_type": "code",
   "execution_count": 9,
   "metadata": {
    "tags": []
   },
   "outputs": [
    {
     "data": {
      "text/html": [
       "<div>\n",
       "<style scoped>\n",
       "    .dataframe tbody tr th:only-of-type {\n",
       "        vertical-align: middle;\n",
       "    }\n",
       "\n",
       "    .dataframe tbody tr th {\n",
       "        vertical-align: top;\n",
       "    }\n",
       "\n",
       "    .dataframe thead th {\n",
       "        text-align: right;\n",
       "    }\n",
       "</style>\n",
       "<table border=\"1\" class=\"dataframe\">\n",
       "  <thead>\n",
       "    <tr style=\"text-align: right;\">\n",
       "      <th></th>\n",
       "      <th>pesticid</th>\n",
       "      <th>geo</th>\n",
       "      <th>TIME_PERIOD</th>\n",
       "      <th>OBS_VALUE</th>\n",
       "    </tr>\n",
       "  </thead>\n",
       "  <tbody>\n",
       "    <tr>\n",
       "      <th>0</th>\n",
       "      <td>F</td>\n",
       "      <td>AT</td>\n",
       "      <td>2011</td>\n",
       "      <td>1544218.0</td>\n",
       "    </tr>\n",
       "    <tr>\n",
       "      <th>1</th>\n",
       "      <td>F</td>\n",
       "      <td>AT</td>\n",
       "      <td>2012</td>\n",
       "      <td>1634371.0</td>\n",
       "    </tr>\n",
       "    <tr>\n",
       "      <th>2</th>\n",
       "      <td>F</td>\n",
       "      <td>AT</td>\n",
       "      <td>2013</td>\n",
       "      <td>1492799.0</td>\n",
       "    </tr>\n",
       "    <tr>\n",
       "      <th>3</th>\n",
       "      <td>F</td>\n",
       "      <td>AT</td>\n",
       "      <td>2014</td>\n",
       "      <td>1641055.0</td>\n",
       "    </tr>\n",
       "    <tr>\n",
       "      <th>4</th>\n",
       "      <td>F</td>\n",
       "      <td>AT</td>\n",
       "      <td>2015</td>\n",
       "      <td>2130973.0</td>\n",
       "    </tr>\n",
       "    <tr>\n",
       "      <th>...</th>\n",
       "      <td>...</td>\n",
       "      <td>...</td>\n",
       "      <td>...</td>\n",
       "      <td>...</td>\n",
       "    </tr>\n",
       "    <tr>\n",
       "      <th>1640</th>\n",
       "      <td>ZR</td>\n",
       "      <td>UK</td>\n",
       "      <td>2015</td>\n",
       "      <td>NaN</td>\n",
       "    </tr>\n",
       "    <tr>\n",
       "      <th>1641</th>\n",
       "      <td>ZR</td>\n",
       "      <td>UK</td>\n",
       "      <td>2016</td>\n",
       "      <td>NaN</td>\n",
       "    </tr>\n",
       "    <tr>\n",
       "      <th>1642</th>\n",
       "      <td>ZR</td>\n",
       "      <td>UK</td>\n",
       "      <td>2017</td>\n",
       "      <td>270493.0</td>\n",
       "    </tr>\n",
       "    <tr>\n",
       "      <th>1643</th>\n",
       "      <td>ZR</td>\n",
       "      <td>UK</td>\n",
       "      <td>2018</td>\n",
       "      <td>NaN</td>\n",
       "    </tr>\n",
       "    <tr>\n",
       "      <th>1644</th>\n",
       "      <td>ZR</td>\n",
       "      <td>UK</td>\n",
       "      <td>2019</td>\n",
       "      <td>255061.0</td>\n",
       "    </tr>\n",
       "  </tbody>\n",
       "</table>\n",
       "<p>1645 rows × 4 columns</p>\n",
       "</div>"
      ],
      "text/plain": [
       "     pesticid geo  TIME_PERIOD  OBS_VALUE\n",
       "0           F  AT         2011  1544218.0\n",
       "1           F  AT         2012  1634371.0\n",
       "2           F  AT         2013  1492799.0\n",
       "3           F  AT         2014  1641055.0\n",
       "4           F  AT         2015  2130973.0\n",
       "...       ...  ..          ...        ...\n",
       "1640       ZR  UK         2015        NaN\n",
       "1641       ZR  UK         2016        NaN\n",
       "1642       ZR  UK         2017   270493.0\n",
       "1643       ZR  UK         2018        NaN\n",
       "1644       ZR  UK         2019   255061.0\n",
       "\n",
       "[1645 rows x 4 columns]"
      ]
     },
     "execution_count": 9,
     "metadata": {},
     "output_type": "execute_result"
    }
   ],
   "source": [
    "col = ['pesticid', 'geo', 'TIME_PERIOD', 'OBS_VALUE']\n",
    "df = df[col]\n",
    "df"
   ]
  },
  {
   "cell_type": "markdown",
   "metadata": {},
   "source": [
    "<details><summary>Click <b>here</b> for the solution</summary> <code>\n",
    "col = ['pesticid', 'geo', 'TIME_PERIOD', 'OBS_VALUE']\n",
    "df = df[col]\n",
    "df\n",
    "</code></details>\n"
   ]
  },
  {
   "cell_type": "markdown",
   "metadata": {},
   "source": [
    "Let's study this DataSet. As you can see, the DataSet consist of 1645 rows × 4 columns. The columns contain the following data:\n",
    "\n",
    "pesticid - pesticide code;\n",
    "\n",
    "geo - country code;\n",
    "\n",
    "TIME_PERIOD - year;\n",
    "\n",
    "OBS_VALUE - volume of sales in KG.  \n",
    "\n",
    "We should make sure that Python recognized the types of data correctly. To do this, we should use **[pandas.info()](https://pandas.pydata.org/docs/reference/api/pandas.DataFrame.info.html?utm_medium=Exinfluencer&utm_source=Exinfluencer&utm_content=000026UJ&utm_term=10006555&utm_id=NA-SkillsNetwork-Channel-SkillsNetworkGuidedProjectsdatascienceinagricultureprognosticationusingbyneuralnetwork466-2022-01-01&highlight=info#pandas.DataFrame.info)**.\n"
   ]
  },
  {
   "cell_type": "code",
   "execution_count": 10,
   "metadata": {
    "tags": []
   },
   "outputs": [
    {
     "name": "stdout",
     "output_type": "stream",
     "text": [
      "<class 'pandas.core.frame.DataFrame'>\n",
      "RangeIndex: 1645 entries, 0 to 1644\n",
      "Data columns (total 4 columns):\n",
      " #   Column       Non-Null Count  Dtype  \n",
      "---  ------       --------------  -----  \n",
      " 0   pesticid     1645 non-null   object \n",
      " 1   geo          1645 non-null   object \n",
      " 2   TIME_PERIOD  1645 non-null   int64  \n",
      " 3   OBS_VALUE    1527 non-null   float64\n",
      "dtypes: float64(1), int64(1), object(2)\n",
      "memory usage: 51.5+ KB\n"
     ]
    }
   ],
   "source": [
    "df.info()"
   ]
  },
  {
   "cell_type": "markdown",
   "metadata": {},
   "source": [
    "As you can see, two last columns were recognized correctly (int64 and float64). First 2 columns were recognized as objects. Let's investigate them:\n"
   ]
  },
  {
   "cell_type": "markdown",
   "metadata": {},
   "source": [
    "### Сhanging the data and data types of columns\n"
   ]
  },
  {
   "cell_type": "markdown",
   "metadata": {},
   "source": [
    "As you can see, the columns 'pesticid' and 'geo' have many repetitions and should be assigned to categorical fields **([pandas.astype()](https://pandas.pydata.org/docs/reference/api/pandas.DataFrame.astype.html?utm_medium=Exinfluencer&utm_source=Exinfluencer&utm_content=000026UJ&utm_term=10006555&utm_id=NA-SkillsNetwork-Channel-SkillsNetworkGuidedProjectsdatascienceinagricultureprognosticationusingbyneuralnetwork466-2022-01-01&highlight=astype#pandas.DataFrame.astype))**.\n",
    "To see the results, we can use **[pandas.describe()](https://pandas.pydata.org/docs/reference/api/pandas.DataFrame.describe.html?utm_medium=Exinfluencer&utm_source=Exinfluencer&utm_content=000026UJ&utm_term=10006555&utm_id=NA-SkillsNetwork-Channel-SkillsNetworkGuidedProjectsdatascienceinagricultureprognosticationusingbyneuralnetwork466-2022-01-01&highlight=describe#pandas.DataFrame.describe)**.\n"
   ]
  },
  {
   "cell_type": "code",
   "execution_count": 11,
   "metadata": {
    "tags": []
   },
   "outputs": [
    {
     "name": "stderr",
     "output_type": "stream",
     "text": [
      "/home/jupyterlab/conda/envs/python/lib/python3.7/site-packages/pandas/core/indexing.py:1884: SettingWithCopyWarning: \n",
      "A value is trying to be set on a copy of a slice from a DataFrame.\n",
      "Try using .loc[row_indexer,col_indexer] = value instead\n",
      "\n",
      "See the caveats in the documentation: https://pandas.pydata.org/pandas-docs/stable/user_guide/indexing.html#returning-a-view-versus-a-copy\n",
      "  self._setitem_single_column(loc, val, pi)\n"
     ]
    },
    {
     "data": {
      "text/html": [
       "<div>\n",
       "<style scoped>\n",
       "    .dataframe tbody tr th:only-of-type {\n",
       "        vertical-align: middle;\n",
       "    }\n",
       "\n",
       "    .dataframe tbody tr th {\n",
       "        vertical-align: top;\n",
       "    }\n",
       "\n",
       "    .dataframe thead th {\n",
       "        text-align: right;\n",
       "    }\n",
       "</style>\n",
       "<table border=\"1\" class=\"dataframe\">\n",
       "  <thead>\n",
       "    <tr style=\"text-align: right;\">\n",
       "      <th></th>\n",
       "      <th>pesticid</th>\n",
       "      <th>geo</th>\n",
       "    </tr>\n",
       "  </thead>\n",
       "  <tbody>\n",
       "    <tr>\n",
       "      <th>count</th>\n",
       "      <td>1645</td>\n",
       "      <td>1645</td>\n",
       "    </tr>\n",
       "    <tr>\n",
       "      <th>unique</th>\n",
       "      <td>6</td>\n",
       "      <td>32</td>\n",
       "    </tr>\n",
       "    <tr>\n",
       "      <th>top</th>\n",
       "      <td>F</td>\n",
       "      <td>AT</td>\n",
       "    </tr>\n",
       "    <tr>\n",
       "      <th>freq</th>\n",
       "      <td>277</td>\n",
       "      <td>54</td>\n",
       "    </tr>\n",
       "  </tbody>\n",
       "</table>\n",
       "</div>"
      ],
      "text/plain": [
       "       pesticid   geo\n",
       "count      1645  1645\n",
       "unique        6    32\n",
       "top           F    AT\n",
       "freq        277    54"
      ]
     },
     "execution_count": 11,
     "metadata": {},
     "output_type": "execute_result"
    }
   ],
   "source": [
    "col = ['pesticid', 'geo',]\n",
    "df.loc[:, col] = df[col].astype('category')\n",
    "df[col].describe()"
   ]
  },
  {
   "cell_type": "markdown",
   "metadata": {},
   "source": [
    "<details><summary>Click <b>here</b> for the solution</summary> <code>\n",
    "col = ['pesticid', 'geo',]\n",
    "df.loc[:, col] = df[col].astype('category')\n",
    "df[col].describe()\n",
    "</code></details>\n"
   ]
  },
  {
   "cell_type": "markdown",
   "metadata": {},
   "source": [
    "As we can see, the DataSet contains information about 32 countries and 6 pesticides. \n",
    "To show categories, we can use **[pandas.Series.cat.categories](https://pandas.pydata.org/docs/reference/api/pandas.Series.cat.categories.html?utm_medium=Exinfluencer&utm_source=Exinfluencer&utm_content=000026UJ&utm_term=10006555&utm_id=NA-SkillsNetwork-Channel-SkillsNetworkGuidedProjectsdatascienceinagricultureprognosticationusingbyneuralnetwork466-2022-01-01)** or **[pandas.unique()](https://pandas.pydata.org/pandas-docs/stable/reference/api/pandas.unique.html?utm_medium=Exinfluencer&utm_source=Exinfluencer&utm_content=000026UJ&utm_term=10006555&utm_id=NA-SkillsNetwork-Channel-SkillsNetworkGuidedProjectsdatascienceinagricultureprognosticationusingbyneuralnetwork466-2022-01-01)**.\n"
   ]
  },
  {
   "cell_type": "code",
   "execution_count": 12,
   "metadata": {
    "tags": []
   },
   "outputs": [
    {
     "data": {
      "text/plain": [
       "Index(['F', 'H', 'I', 'M', 'PGR', 'ZR'], dtype='object')"
      ]
     },
     "execution_count": 12,
     "metadata": {},
     "output_type": "execute_result"
    }
   ],
   "source": [
    "df['pesticid'].cat.categories"
   ]
  },
  {
   "cell_type": "code",
   "execution_count": 13,
   "metadata": {
    "tags": []
   },
   "outputs": [
    {
     "data": {
      "text/plain": [
       "['AT', 'BE', 'BG', 'CH', 'CY', ..., 'SE', 'SI', 'SK', 'TR', 'UK']\n",
       "Length: 32\n",
       "Categories (32, object): ['AT', 'BE', 'BG', 'CH', ..., 'SI', 'SK', 'TR', 'UK']"
      ]
     },
     "execution_count": 13,
     "metadata": {},
     "output_type": "execute_result"
    }
   ],
   "source": [
    "df['geo'].unique()"
   ]
  },
  {
   "cell_type": "markdown",
   "metadata": {},
   "source": [
    "It should be noted that there are some nonstandard country codes for the United Kingdom and Greece.\n",
    "We should change the values: UK to GB for the United Kingdom and EL to GR for Greece.\n",
    "To do this, we should add new category names using **[pandas.Series.cat.add_categories()](https://pandas.pydata.org/pandas-docs/version/1.0.5/reference/api/pandas.Series.cat.add_categories.html?utm_medium=Exinfluencer&utm_source=Exinfluencer&utm_content=000026UJ&utm_term=10006555&utm_id=NA-SkillsNetwork-Channel-SkillsNetworkGuidedProjectsdatascienceinagricultureprognosticationusingbyneuralnetwork466-2022-01-01)**.\n"
   ]
  },
  {
   "cell_type": "code",
   "execution_count": 14,
   "metadata": {
    "tags": []
   },
   "outputs": [
    {
     "name": "stderr",
     "output_type": "stream",
     "text": [
      "/home/jupyterlab/conda/envs/python/lib/python3.7/site-packages/pandas/core/indexing.py:1773: SettingWithCopyWarning: \n",
      "A value is trying to be set on a copy of a slice from a DataFrame.\n",
      "Try using .loc[row_indexer,col_indexer] = value instead\n",
      "\n",
      "See the caveats in the documentation: https://pandas.pydata.org/pandas-docs/stable/user_guide/indexing.html#returning-a-view-versus-a-copy\n",
      "  self._setitem_single_column(ilocs[0], value, pi)\n"
     ]
    }
   ],
   "source": [
    "df.loc[:, 'geo'] = df['geo'].cat.add_categories([\"GB\", \"GR\"])"
   ]
  },
  {
   "cell_type": "markdown",
   "metadata": {},
   "source": [
    "Then we should change the values using a binary mask:\n"
   ]
  },
  {
   "cell_type": "code",
   "execution_count": 15,
   "metadata": {
    "tags": []
   },
   "outputs": [
    {
     "data": {
      "text/html": [
       "<div>\n",
       "<style scoped>\n",
       "    .dataframe tbody tr th:only-of-type {\n",
       "        vertical-align: middle;\n",
       "    }\n",
       "\n",
       "    .dataframe tbody tr th {\n",
       "        vertical-align: top;\n",
       "    }\n",
       "\n",
       "    .dataframe thead th {\n",
       "        text-align: right;\n",
       "    }\n",
       "</style>\n",
       "<table border=\"1\" class=\"dataframe\">\n",
       "  <thead>\n",
       "    <tr style=\"text-align: right;\">\n",
       "      <th></th>\n",
       "      <th>pesticid</th>\n",
       "      <th>geo</th>\n",
       "      <th>TIME_PERIOD</th>\n",
       "      <th>OBS_VALUE</th>\n",
       "    </tr>\n",
       "  </thead>\n",
       "  <tbody>\n",
       "    <tr>\n",
       "      <th>0</th>\n",
       "      <td>F</td>\n",
       "      <td>AT</td>\n",
       "      <td>2011</td>\n",
       "      <td>1544218.0</td>\n",
       "    </tr>\n",
       "    <tr>\n",
       "      <th>1</th>\n",
       "      <td>F</td>\n",
       "      <td>AT</td>\n",
       "      <td>2012</td>\n",
       "      <td>1634371.0</td>\n",
       "    </tr>\n",
       "    <tr>\n",
       "      <th>2</th>\n",
       "      <td>F</td>\n",
       "      <td>AT</td>\n",
       "      <td>2013</td>\n",
       "      <td>1492799.0</td>\n",
       "    </tr>\n",
       "    <tr>\n",
       "      <th>3</th>\n",
       "      <td>F</td>\n",
       "      <td>AT</td>\n",
       "      <td>2014</td>\n",
       "      <td>1641055.0</td>\n",
       "    </tr>\n",
       "    <tr>\n",
       "      <th>4</th>\n",
       "      <td>F</td>\n",
       "      <td>AT</td>\n",
       "      <td>2015</td>\n",
       "      <td>2130973.0</td>\n",
       "    </tr>\n",
       "    <tr>\n",
       "      <th>...</th>\n",
       "      <td>...</td>\n",
       "      <td>...</td>\n",
       "      <td>...</td>\n",
       "      <td>...</td>\n",
       "    </tr>\n",
       "    <tr>\n",
       "      <th>1640</th>\n",
       "      <td>ZR</td>\n",
       "      <td>GB</td>\n",
       "      <td>2015</td>\n",
       "      <td>NaN</td>\n",
       "    </tr>\n",
       "    <tr>\n",
       "      <th>1641</th>\n",
       "      <td>ZR</td>\n",
       "      <td>GB</td>\n",
       "      <td>2016</td>\n",
       "      <td>NaN</td>\n",
       "    </tr>\n",
       "    <tr>\n",
       "      <th>1642</th>\n",
       "      <td>ZR</td>\n",
       "      <td>GB</td>\n",
       "      <td>2017</td>\n",
       "      <td>270493.0</td>\n",
       "    </tr>\n",
       "    <tr>\n",
       "      <th>1643</th>\n",
       "      <td>ZR</td>\n",
       "      <td>GB</td>\n",
       "      <td>2018</td>\n",
       "      <td>NaN</td>\n",
       "    </tr>\n",
       "    <tr>\n",
       "      <th>1644</th>\n",
       "      <td>ZR</td>\n",
       "      <td>GB</td>\n",
       "      <td>2019</td>\n",
       "      <td>255061.0</td>\n",
       "    </tr>\n",
       "  </tbody>\n",
       "</table>\n",
       "<p>1645 rows × 4 columns</p>\n",
       "</div>"
      ],
      "text/plain": [
       "     pesticid geo  TIME_PERIOD  OBS_VALUE\n",
       "0           F  AT         2011  1544218.0\n",
       "1           F  AT         2012  1634371.0\n",
       "2           F  AT         2013  1492799.0\n",
       "3           F  AT         2014  1641055.0\n",
       "4           F  AT         2015  2130973.0\n",
       "...       ...  ..          ...        ...\n",
       "1640       ZR  GB         2015        NaN\n",
       "1641       ZR  GB         2016        NaN\n",
       "1642       ZR  GB         2017   270493.0\n",
       "1643       ZR  GB         2018        NaN\n",
       "1644       ZR  GB         2019   255061.0\n",
       "\n",
       "[1645 rows x 4 columns]"
      ]
     },
     "execution_count": 15,
     "metadata": {},
     "output_type": "execute_result"
    }
   ],
   "source": [
    "pd.options.mode.chained_assignment = None  # swich of the warnings\n",
    "mask = df['geo'] == 'UK' # Binary mask\n",
    "df.loc[mask, 'geo'] = \"GB\" # Change the values for the mask\n",
    "df"
   ]
  },
  {
   "cell_type": "code",
   "execution_count": 16,
   "metadata": {
    "tags": []
   },
   "outputs": [
    {
     "data": {
      "text/html": [
       "<div>\n",
       "<style scoped>\n",
       "    .dataframe tbody tr th:only-of-type {\n",
       "        vertical-align: middle;\n",
       "    }\n",
       "\n",
       "    .dataframe tbody tr th {\n",
       "        vertical-align: top;\n",
       "    }\n",
       "\n",
       "    .dataframe thead th {\n",
       "        text-align: right;\n",
       "    }\n",
       "</style>\n",
       "<table border=\"1\" class=\"dataframe\">\n",
       "  <thead>\n",
       "    <tr style=\"text-align: right;\">\n",
       "      <th></th>\n",
       "      <th>pesticid</th>\n",
       "      <th>geo</th>\n",
       "      <th>TIME_PERIOD</th>\n",
       "      <th>OBS_VALUE</th>\n",
       "    </tr>\n",
       "  </thead>\n",
       "  <tbody>\n",
       "    <tr>\n",
       "      <th>0</th>\n",
       "      <td>F</td>\n",
       "      <td>AT</td>\n",
       "      <td>2011</td>\n",
       "      <td>1544218.0</td>\n",
       "    </tr>\n",
       "    <tr>\n",
       "      <th>1</th>\n",
       "      <td>F</td>\n",
       "      <td>AT</td>\n",
       "      <td>2012</td>\n",
       "      <td>1634371.0</td>\n",
       "    </tr>\n",
       "    <tr>\n",
       "      <th>2</th>\n",
       "      <td>F</td>\n",
       "      <td>AT</td>\n",
       "      <td>2013</td>\n",
       "      <td>1492799.0</td>\n",
       "    </tr>\n",
       "    <tr>\n",
       "      <th>3</th>\n",
       "      <td>F</td>\n",
       "      <td>AT</td>\n",
       "      <td>2014</td>\n",
       "      <td>1641055.0</td>\n",
       "    </tr>\n",
       "    <tr>\n",
       "      <th>4</th>\n",
       "      <td>F</td>\n",
       "      <td>AT</td>\n",
       "      <td>2015</td>\n",
       "      <td>2130973.0</td>\n",
       "    </tr>\n",
       "    <tr>\n",
       "      <th>...</th>\n",
       "      <td>...</td>\n",
       "      <td>...</td>\n",
       "      <td>...</td>\n",
       "      <td>...</td>\n",
       "    </tr>\n",
       "    <tr>\n",
       "      <th>1640</th>\n",
       "      <td>ZR</td>\n",
       "      <td>GB</td>\n",
       "      <td>2015</td>\n",
       "      <td>NaN</td>\n",
       "    </tr>\n",
       "    <tr>\n",
       "      <th>1641</th>\n",
       "      <td>ZR</td>\n",
       "      <td>GB</td>\n",
       "      <td>2016</td>\n",
       "      <td>NaN</td>\n",
       "    </tr>\n",
       "    <tr>\n",
       "      <th>1642</th>\n",
       "      <td>ZR</td>\n",
       "      <td>GB</td>\n",
       "      <td>2017</td>\n",
       "      <td>270493.0</td>\n",
       "    </tr>\n",
       "    <tr>\n",
       "      <th>1643</th>\n",
       "      <td>ZR</td>\n",
       "      <td>GB</td>\n",
       "      <td>2018</td>\n",
       "      <td>NaN</td>\n",
       "    </tr>\n",
       "    <tr>\n",
       "      <th>1644</th>\n",
       "      <td>ZR</td>\n",
       "      <td>GB</td>\n",
       "      <td>2019</td>\n",
       "      <td>255061.0</td>\n",
       "    </tr>\n",
       "  </tbody>\n",
       "</table>\n",
       "<p>1645 rows × 4 columns</p>\n",
       "</div>"
      ],
      "text/plain": [
       "     pesticid geo  TIME_PERIOD  OBS_VALUE\n",
       "0           F  AT         2011  1544218.0\n",
       "1           F  AT         2012  1634371.0\n",
       "2           F  AT         2013  1492799.0\n",
       "3           F  AT         2014  1641055.0\n",
       "4           F  AT         2015  2130973.0\n",
       "...       ...  ..          ...        ...\n",
       "1640       ZR  GB         2015        NaN\n",
       "1641       ZR  GB         2016        NaN\n",
       "1642       ZR  GB         2017   270493.0\n",
       "1643       ZR  GB         2018        NaN\n",
       "1644       ZR  GB         2019   255061.0\n",
       "\n",
       "[1645 rows x 4 columns]"
      ]
     },
     "execution_count": 16,
     "metadata": {},
     "output_type": "execute_result"
    }
   ],
   "source": [
    "pd.options.mode.chained_assignment = None  # swich of the warnings\n",
    "mask = df['geo'] == 'UK' # Binary mask\n",
    "df.loc[mask, 'geo'] = \"GB\" # Change the values for the mask\n",
    "df"
   ]
  },
  {
   "cell_type": "markdown",
   "metadata": {},
   "source": [
    "<details><summary>Click <b>here</b> for the solution</summary> <code>\n",
    "mask = df['geo'] == 'EL'\n",
    "df.loc[mask, 'geo'] = \"GR\"\n",
    "df\n",
    "</code></details>\n"
   ]
  },
  {
   "cell_type": "markdown",
   "metadata": {},
   "source": [
    "After that, add a new column that contains the full names of countries. To do this we can use **[pycountry](https://pypi.org/project/pycountry/?utm_medium=Exinfluencer&utm_source=Exinfluencer&utm_content=000026UJ&utm_term=10006555&utm_id=NA-SkillsNetwork-Channel-SkillsNetworkGuidedProjectsdatascienceinagricultureprognosticationusingbyneuralnetwork466-2022-01-01)** library.\n"
   ]
  },
  {
   "cell_type": "code",
   "execution_count": 19,
   "metadata": {
    "tags": []
   },
   "outputs": [
    {
     "name": "stdout",
     "output_type": "stream",
     "text": [
      "Collecting pycountry\n",
      "  Downloading pycountry-22.3.5.tar.gz (10.1 MB)\n",
      "\u001b[2K     \u001b[90m━━━━━━━━━━━━━━━━━━━━━━━━━━━━━━━━━━━━━━━━\u001b[0m \u001b[32m10.1/10.1 MB\u001b[0m \u001b[31m69.3 MB/s\u001b[0m eta \u001b[36m0:00:00\u001b[0m00:01\u001b[0m00:01\u001b[0m\n",
      "\u001b[?25h  Installing build dependencies ... \u001b[?25ldone\n",
      "\u001b[?25h  Getting requirements to build wheel ... \u001b[?25ldone\n",
      "\u001b[?25h  Preparing metadata (pyproject.toml) ... \u001b[?25ldone\n",
      "\u001b[?25hRequirement already satisfied: setuptools in /home/jupyterlab/conda/envs/python/lib/python3.7/site-packages (from pycountry) (67.7.2)\n",
      "Building wheels for collected packages: pycountry\n",
      "  Building wheel for pycountry (pyproject.toml) ... \u001b[?25ldone\n",
      "\u001b[?25h  Created wheel for pycountry: filename=pycountry-22.3.5-py2.py3-none-any.whl size=10681832 sha256=5adcce52cc892bb7cd9e77f80fe6e7454c830ce30541c7b0d3e617896697ad02\n",
      "  Stored in directory: /home/jupyterlab/.cache/pip/wheels/0e/06/e8/7ee176e95ea9a8a8c3b3afcb1869f20adbd42413d4611c6eb4\n",
      "Successfully built pycountry\n",
      "Installing collected packages: pycountry\n",
      "Successfully installed pycountry-22.3.5\n"
     ]
    }
   ],
   "source": [
    "!pip install pycountry"
   ]
  },
  {
   "cell_type": "code",
   "execution_count": 20,
   "metadata": {
    "tags": []
   },
   "outputs": [],
   "source": [
    "import pycountry"
   ]
  },
  {
   "cell_type": "markdown",
   "metadata": {},
   "source": [
    "pycountry provides the ISO databases for different standards.\n",
    "\n",
    "In order to add a column with full country names we need to create a function that will get a counry code and return a full name.\n",
    "Then it should be the function **[pandas.DataFrame.apply()](https://pandas.pydata.org/pandas-docs/stable/reference/api/pandas.DataFrame.apply.html?utm_medium=Exinfluencer&utm_source=Exinfluencer&utm_content=000026UJ&utm_term=10006555&utm_id=NA-SkillsNetwork-Channel-SkillsNetworkGuidedProjectsdatascienceinagricultureprognosticationusingbyneuralnetwork466-2022-01-01)** for calculating new column values.\n"
   ]
  },
  {
   "cell_type": "code",
   "execution_count": 21,
   "metadata": {
    "tags": []
   },
   "outputs": [
    {
     "name": "stdout",
     "output_type": "stream",
     "text": [
      "Country codes ['AW', 'AF', 'AO', 'AI', 'AX', 'AL', 'AD', 'AE', 'AR', 'AM', 'AS', 'AQ', 'TF', 'AG', 'AU', 'AT', 'AZ', 'BI', 'BE', 'BJ', 'BQ', 'BF', 'BD', 'BG', 'BH', 'BS', 'BA', 'BL', 'BY', 'BZ', 'BM', 'BO', 'BR', 'BB', 'BN', 'BT', 'BV', 'BW', 'CF', 'CA', 'CC', 'CH', 'CL', 'CN', 'CI', 'CM', 'CD', 'CG', 'CK', 'CO', 'KM', 'CV', 'CR', 'CU', 'CW', 'CX', 'KY', 'CY', 'CZ', 'DE', 'DJ', 'DM', 'DK', 'DO', 'DZ', 'EC', 'EG', 'ER', 'EH', 'ES', 'EE', 'ET', 'FI', 'FJ', 'FK', 'FR', 'FO', 'FM', 'GA', 'GB', 'GE', 'GG', 'GH', 'GI', 'GN', 'GP', 'GM', 'GW', 'GQ', 'GR', 'GD', 'GL', 'GT', 'GF', 'GU', 'GY', 'HK', 'HM', 'HN', 'HR', 'HT', 'HU', 'ID', 'IM', 'IN', 'IO', 'IE', 'IR', 'IQ', 'IS', 'IL', 'IT', 'JM', 'JE', 'JO', 'JP', 'KZ', 'KE', 'KG', 'KH', 'KI', 'KN', 'KR', 'KW', 'LA', 'LB', 'LR', 'LY', 'LC', 'LI', 'LK', 'LS', 'LT', 'LU', 'LV', 'MO', 'MF', 'MA', 'MC', 'MD', 'MG', 'MV', 'MX', 'MH', 'MK', 'ML', 'MT', 'MM', 'ME', 'MN', 'MP', 'MZ', 'MR', 'MS', 'MQ', 'MU', 'MW', 'MY', 'YT', 'NA', 'NC', 'NE', 'NF', 'NG', 'NI', 'NU', 'NL', 'NO', 'NP', 'NR', 'NZ', 'OM', 'PK', 'PA', 'PN', 'PE', 'PH', 'PW', 'PG', 'PL', 'PR', 'KP', 'PT', 'PY', 'PS', 'PF', 'QA', 'RE', 'RO', 'RU', 'RW', 'SA', 'SD', 'SN', 'SG', 'GS', 'SH', 'SJ', 'SB', 'SL', 'SV', 'SM', 'SO', 'PM', 'RS', 'SS', 'ST', 'SR', 'SK', 'SI', 'SE', 'SZ', 'SX', 'SC', 'SY', 'TC', 'TD', 'TG', 'TH', 'TJ', 'TK', 'TM', 'TL', 'TO', 'TT', 'TN', 'TR', 'TV', 'TW', 'TZ', 'UG', 'UA', 'UM', 'UY', 'US', 'UZ', 'VA', 'VC', 'VE', 'VG', 'VI', 'VN', 'VU', 'WF', 'WS', 'YE', 'ZA', 'ZM', 'ZW']\n",
      "EL\n",
      "EL\n",
      "EL\n",
      "EL\n",
      "EL\n",
      "EL\n",
      "EL\n",
      "EL\n",
      "EL\n",
      "EL\n",
      "EL\n",
      "EL\n",
      "EL\n",
      "EL\n",
      "EL\n",
      "EL\n",
      "EL\n",
      "EL\n",
      "EL\n",
      "EL\n",
      "EL\n",
      "EL\n",
      "EL\n",
      "EL\n",
      "EL\n",
      "EL\n",
      "EL\n",
      "EL\n",
      "EL\n",
      "EL\n",
      "EL\n",
      "EL\n",
      "EL\n",
      "EL\n",
      "EL\n",
      "EL\n",
      "EL\n",
      "EL\n",
      "EL\n",
      "EL\n",
      "EL\n",
      "EL\n",
      "EL\n",
      "EL\n",
      "EL\n",
      "EL\n",
      "EL\n",
      "EL\n",
      "EL\n",
      "EL\n",
      "EL\n",
      "EL\n",
      "EL\n",
      "EL\n"
     ]
    },
    {
     "data": {
      "text/html": [
       "<div>\n",
       "<style scoped>\n",
       "    .dataframe tbody tr th:only-of-type {\n",
       "        vertical-align: middle;\n",
       "    }\n",
       "\n",
       "    .dataframe tbody tr th {\n",
       "        vertical-align: top;\n",
       "    }\n",
       "\n",
       "    .dataframe thead th {\n",
       "        text-align: right;\n",
       "    }\n",
       "</style>\n",
       "<table border=\"1\" class=\"dataframe\">\n",
       "  <thead>\n",
       "    <tr style=\"text-align: right;\">\n",
       "      <th></th>\n",
       "      <th>pesticid</th>\n",
       "      <th>geo</th>\n",
       "      <th>TIME_PERIOD</th>\n",
       "      <th>OBS_VALUE</th>\n",
       "      <th>country_name</th>\n",
       "    </tr>\n",
       "  </thead>\n",
       "  <tbody>\n",
       "    <tr>\n",
       "      <th>0</th>\n",
       "      <td>F</td>\n",
       "      <td>AT</td>\n",
       "      <td>2011</td>\n",
       "      <td>1544218.0</td>\n",
       "      <td>Austria</td>\n",
       "    </tr>\n",
       "    <tr>\n",
       "      <th>1</th>\n",
       "      <td>F</td>\n",
       "      <td>AT</td>\n",
       "      <td>2012</td>\n",
       "      <td>1634371.0</td>\n",
       "      <td>Austria</td>\n",
       "    </tr>\n",
       "    <tr>\n",
       "      <th>2</th>\n",
       "      <td>F</td>\n",
       "      <td>AT</td>\n",
       "      <td>2013</td>\n",
       "      <td>1492799.0</td>\n",
       "      <td>Austria</td>\n",
       "    </tr>\n",
       "    <tr>\n",
       "      <th>3</th>\n",
       "      <td>F</td>\n",
       "      <td>AT</td>\n",
       "      <td>2014</td>\n",
       "      <td>1641055.0</td>\n",
       "      <td>Austria</td>\n",
       "    </tr>\n",
       "    <tr>\n",
       "      <th>4</th>\n",
       "      <td>F</td>\n",
       "      <td>AT</td>\n",
       "      <td>2015</td>\n",
       "      <td>2130973.0</td>\n",
       "      <td>Austria</td>\n",
       "    </tr>\n",
       "    <tr>\n",
       "      <th>...</th>\n",
       "      <td>...</td>\n",
       "      <td>...</td>\n",
       "      <td>...</td>\n",
       "      <td>...</td>\n",
       "      <td>...</td>\n",
       "    </tr>\n",
       "    <tr>\n",
       "      <th>1640</th>\n",
       "      <td>ZR</td>\n",
       "      <td>GB</td>\n",
       "      <td>2015</td>\n",
       "      <td>NaN</td>\n",
       "      <td>United Kingdom</td>\n",
       "    </tr>\n",
       "    <tr>\n",
       "      <th>1641</th>\n",
       "      <td>ZR</td>\n",
       "      <td>GB</td>\n",
       "      <td>2016</td>\n",
       "      <td>NaN</td>\n",
       "      <td>United Kingdom</td>\n",
       "    </tr>\n",
       "    <tr>\n",
       "      <th>1642</th>\n",
       "      <td>ZR</td>\n",
       "      <td>GB</td>\n",
       "      <td>2017</td>\n",
       "      <td>270493.0</td>\n",
       "      <td>United Kingdom</td>\n",
       "    </tr>\n",
       "    <tr>\n",
       "      <th>1643</th>\n",
       "      <td>ZR</td>\n",
       "      <td>GB</td>\n",
       "      <td>2018</td>\n",
       "      <td>NaN</td>\n",
       "      <td>United Kingdom</td>\n",
       "    </tr>\n",
       "    <tr>\n",
       "      <th>1644</th>\n",
       "      <td>ZR</td>\n",
       "      <td>GB</td>\n",
       "      <td>2019</td>\n",
       "      <td>255061.0</td>\n",
       "      <td>United Kingdom</td>\n",
       "    </tr>\n",
       "  </tbody>\n",
       "</table>\n",
       "<p>1645 rows × 5 columns</p>\n",
       "</div>"
      ],
      "text/plain": [
       "     pesticid geo  TIME_PERIOD  OBS_VALUE    country_name\n",
       "0           F  AT         2011  1544218.0         Austria\n",
       "1           F  AT         2012  1634371.0         Austria\n",
       "2           F  AT         2013  1492799.0         Austria\n",
       "3           F  AT         2014  1641055.0         Austria\n",
       "4           F  AT         2015  2130973.0         Austria\n",
       "...       ...  ..          ...        ...             ...\n",
       "1640       ZR  GB         2015        NaN  United Kingdom\n",
       "1641       ZR  GB         2016        NaN  United Kingdom\n",
       "1642       ZR  GB         2017   270493.0  United Kingdom\n",
       "1643       ZR  GB         2018        NaN  United Kingdom\n",
       "1644       ZR  GB         2019   255061.0  United Kingdom\n",
       "\n",
       "[1645 rows x 5 columns]"
      ]
     },
     "execution_count": 21,
     "metadata": {},
     "output_type": "execute_result"
    }
   ],
   "source": [
    "list_alpha_2 = [i.alpha_2 for i in list(pycountry.countries)]  # create a list of country codes\n",
    "print(\"Country codes\", list_alpha_2)\n",
    "\n",
    "def country_flag(df):\n",
    "    '''\n",
    "    df: Series\n",
    "    return: Full name of counry or \"Invalide code\"\n",
    "    '''\n",
    "    if (df['geo'] in list_alpha_2):\n",
    "        return pycountry.countries.get(alpha_2=df['geo']).name\n",
    "    else:\n",
    "        print(df['geo'])\n",
    "        return 'Invalid Code'\n",
    "\n",
    "df['country_name']=df.apply(country_flag, axis = 1)\n",
    "df"
   ]
  },
  {
   "cell_type": "markdown",
   "metadata": {},
   "source": [
    "Let's add a new column with a pesticide name. We can get this information from: https://ec.europa.eu/eurostat/data/database.\n",
    "In order to do this, we should create a dictionary. Where a key is a pesticide code and a value is a pesticide name.\n"
   ]
  },
  {
   "cell_type": "code",
   "execution_count": 22,
   "metadata": {
    "tags": []
   },
   "outputs": [],
   "source": [
    "pes = {'F': 'Fungicides and bactericides',\n",
    "      'H': 'Herbicides, haulm destructors and moss killers',\n",
    "      'I': 'Insecticides and acaricides',\n",
    "      'M': 'Molluscicides',\n",
    "      'PGR': 'Plant growth regulators',\n",
    "      'ZR': 'Other plant protection products'}"
   ]
  },
  {
   "cell_type": "markdown",
   "metadata": {},
   "source": [
    "Let's add a new column using mapping: **[pandas.Series.map()](https://pandas.pydata.org/pandas-docs/stable/reference/api/pandas.Series.map.html?utm_medium=Exinfluencer&utm_source=Exinfluencer&utm_content=000026UJ&utm_term=10006555&utm_id=NA-SkillsNetwork-Channel-SkillsNetworkGuidedProjectsdatascienceinagricultureprognosticationusingbyneuralnetwork466-2022-01-01)**.\n"
   ]
  },
  {
   "cell_type": "code",
   "execution_count": 23,
   "metadata": {
    "tags": []
   },
   "outputs": [
    {
     "data": {
      "text/html": [
       "<div>\n",
       "<style scoped>\n",
       "    .dataframe tbody tr th:only-of-type {\n",
       "        vertical-align: middle;\n",
       "    }\n",
       "\n",
       "    .dataframe tbody tr th {\n",
       "        vertical-align: top;\n",
       "    }\n",
       "\n",
       "    .dataframe thead th {\n",
       "        text-align: right;\n",
       "    }\n",
       "</style>\n",
       "<table border=\"1\" class=\"dataframe\">\n",
       "  <thead>\n",
       "    <tr style=\"text-align: right;\">\n",
       "      <th></th>\n",
       "      <th>pesticid</th>\n",
       "      <th>geo</th>\n",
       "      <th>TIME_PERIOD</th>\n",
       "      <th>OBS_VALUE</th>\n",
       "      <th>country_name</th>\n",
       "      <th>pesticid_name</th>\n",
       "    </tr>\n",
       "  </thead>\n",
       "  <tbody>\n",
       "    <tr>\n",
       "      <th>0</th>\n",
       "      <td>F</td>\n",
       "      <td>AT</td>\n",
       "      <td>2011</td>\n",
       "      <td>1544218.0</td>\n",
       "      <td>Austria</td>\n",
       "      <td>Fungicides and bactericides</td>\n",
       "    </tr>\n",
       "    <tr>\n",
       "      <th>1</th>\n",
       "      <td>F</td>\n",
       "      <td>AT</td>\n",
       "      <td>2012</td>\n",
       "      <td>1634371.0</td>\n",
       "      <td>Austria</td>\n",
       "      <td>Fungicides and bactericides</td>\n",
       "    </tr>\n",
       "    <tr>\n",
       "      <th>2</th>\n",
       "      <td>F</td>\n",
       "      <td>AT</td>\n",
       "      <td>2013</td>\n",
       "      <td>1492799.0</td>\n",
       "      <td>Austria</td>\n",
       "      <td>Fungicides and bactericides</td>\n",
       "    </tr>\n",
       "    <tr>\n",
       "      <th>3</th>\n",
       "      <td>F</td>\n",
       "      <td>AT</td>\n",
       "      <td>2014</td>\n",
       "      <td>1641055.0</td>\n",
       "      <td>Austria</td>\n",
       "      <td>Fungicides and bactericides</td>\n",
       "    </tr>\n",
       "    <tr>\n",
       "      <th>4</th>\n",
       "      <td>F</td>\n",
       "      <td>AT</td>\n",
       "      <td>2015</td>\n",
       "      <td>2130973.0</td>\n",
       "      <td>Austria</td>\n",
       "      <td>Fungicides and bactericides</td>\n",
       "    </tr>\n",
       "    <tr>\n",
       "      <th>...</th>\n",
       "      <td>...</td>\n",
       "      <td>...</td>\n",
       "      <td>...</td>\n",
       "      <td>...</td>\n",
       "      <td>...</td>\n",
       "      <td>...</td>\n",
       "    </tr>\n",
       "    <tr>\n",
       "      <th>1640</th>\n",
       "      <td>ZR</td>\n",
       "      <td>GB</td>\n",
       "      <td>2015</td>\n",
       "      <td>NaN</td>\n",
       "      <td>United Kingdom</td>\n",
       "      <td>Other plant protection products</td>\n",
       "    </tr>\n",
       "    <tr>\n",
       "      <th>1641</th>\n",
       "      <td>ZR</td>\n",
       "      <td>GB</td>\n",
       "      <td>2016</td>\n",
       "      <td>NaN</td>\n",
       "      <td>United Kingdom</td>\n",
       "      <td>Other plant protection products</td>\n",
       "    </tr>\n",
       "    <tr>\n",
       "      <th>1642</th>\n",
       "      <td>ZR</td>\n",
       "      <td>GB</td>\n",
       "      <td>2017</td>\n",
       "      <td>270493.0</td>\n",
       "      <td>United Kingdom</td>\n",
       "      <td>Other plant protection products</td>\n",
       "    </tr>\n",
       "    <tr>\n",
       "      <th>1643</th>\n",
       "      <td>ZR</td>\n",
       "      <td>GB</td>\n",
       "      <td>2018</td>\n",
       "      <td>NaN</td>\n",
       "      <td>United Kingdom</td>\n",
       "      <td>Other plant protection products</td>\n",
       "    </tr>\n",
       "    <tr>\n",
       "      <th>1644</th>\n",
       "      <td>ZR</td>\n",
       "      <td>GB</td>\n",
       "      <td>2019</td>\n",
       "      <td>255061.0</td>\n",
       "      <td>United Kingdom</td>\n",
       "      <td>Other plant protection products</td>\n",
       "    </tr>\n",
       "  </tbody>\n",
       "</table>\n",
       "<p>1645 rows × 6 columns</p>\n",
       "</div>"
      ],
      "text/plain": [
       "     pesticid geo  TIME_PERIOD  OBS_VALUE    country_name  \\\n",
       "0           F  AT         2011  1544218.0         Austria   \n",
       "1           F  AT         2012  1634371.0         Austria   \n",
       "2           F  AT         2013  1492799.0         Austria   \n",
       "3           F  AT         2014  1641055.0         Austria   \n",
       "4           F  AT         2015  2130973.0         Austria   \n",
       "...       ...  ..          ...        ...             ...   \n",
       "1640       ZR  GB         2015        NaN  United Kingdom   \n",
       "1641       ZR  GB         2016        NaN  United Kingdom   \n",
       "1642       ZR  GB         2017   270493.0  United Kingdom   \n",
       "1643       ZR  GB         2018        NaN  United Kingdom   \n",
       "1644       ZR  GB         2019   255061.0  United Kingdom   \n",
       "\n",
       "                        pesticid_name  \n",
       "0         Fungicides and bactericides  \n",
       "1         Fungicides and bactericides  \n",
       "2         Fungicides and bactericides  \n",
       "3         Fungicides and bactericides  \n",
       "4         Fungicides and bactericides  \n",
       "...                               ...  \n",
       "1640  Other plant protection products  \n",
       "1641  Other plant protection products  \n",
       "1642  Other plant protection products  \n",
       "1643  Other plant protection products  \n",
       "1644  Other plant protection products  \n",
       "\n",
       "[1645 rows x 6 columns]"
      ]
     },
     "execution_count": 23,
     "metadata": {},
     "output_type": "execute_result"
    }
   ],
   "source": [
    "df['pesticid_name'] = df['pesticid'].map(pes)\n",
    "df['pesticid_name'] = df['pesticid_name'].astype('category')\n",
    "df"
   ]
  },
  {
   "cell_type": "markdown",
   "metadata": {},
   "source": [
    "As you can see, we got two new columns.\n"
   ]
  },
  {
   "cell_type": "markdown",
   "metadata": {},
   "source": [
    "### Grouping data\n"
   ]
  },
  {
   "cell_type": "markdown",
   "metadata": {},
   "source": [
    "Let's determine how many records of each pesticide category are in the DataSet **[pandas.Series.value_counts()](https://pandas.pydata.org/docs/reference/api/pandas.Series.value_counts.html?utm_medium=Exinfluencer&utm_source=Exinfluencer&utm_content=000026UJ&utm_term=10006555&utm_id=NA-SkillsNetwork-Channel-SkillsNetworkGuidedProjectsdatascienceinagricultureprognosticationusingbyneuralnetwork466-2022-01-01)** and show the results in a table **[pandas.Series.to_frame()](https://pandas.pydata.org/docs/reference/api/pandas.Series.to_frame.html?utm_medium=Exinfluencer&utm_source=Exinfluencer&utm_content=000026UJ&utm_term=10006555&utm_id=NA-SkillsNetwork-Channel-SkillsNetworkGuidedProjectsdatascienceinagricultureprognosticationusingbyneuralnetwork466-2022-01-01)**.\n"
   ]
  },
  {
   "cell_type": "code",
   "execution_count": 24,
   "metadata": {
    "tags": []
   },
   "outputs": [
    {
     "data": {
      "text/html": [
       "<div>\n",
       "<style scoped>\n",
       "    .dataframe tbody tr th:only-of-type {\n",
       "        vertical-align: middle;\n",
       "    }\n",
       "\n",
       "    .dataframe tbody tr th {\n",
       "        vertical-align: top;\n",
       "    }\n",
       "\n",
       "    .dataframe thead th {\n",
       "        text-align: right;\n",
       "    }\n",
       "</style>\n",
       "<table border=\"1\" class=\"dataframe\">\n",
       "  <thead>\n",
       "    <tr style=\"text-align: right;\">\n",
       "      <th></th>\n",
       "      <th>pesticid_name</th>\n",
       "    </tr>\n",
       "  </thead>\n",
       "  <tbody>\n",
       "    <tr>\n",
       "      <th>Fungicides and bactericides</th>\n",
       "      <td>277</td>\n",
       "    </tr>\n",
       "    <tr>\n",
       "      <th>Herbicides, haulm destructors and moss killers</th>\n",
       "      <td>277</td>\n",
       "    </tr>\n",
       "    <tr>\n",
       "      <th>Insecticides and acaricides</th>\n",
       "      <td>277</td>\n",
       "    </tr>\n",
       "    <tr>\n",
       "      <th>Plant growth regulators</th>\n",
       "      <td>273</td>\n",
       "    </tr>\n",
       "    <tr>\n",
       "      <th>Other plant protection products</th>\n",
       "      <td>272</td>\n",
       "    </tr>\n",
       "    <tr>\n",
       "      <th>Molluscicides</th>\n",
       "      <td>269</td>\n",
       "    </tr>\n",
       "  </tbody>\n",
       "</table>\n",
       "</div>"
      ],
      "text/plain": [
       "                                                pesticid_name\n",
       "Fungicides and bactericides                               277\n",
       "Herbicides, haulm destructors and moss killers            277\n",
       "Insecticides and acaricides                               277\n",
       "Plant growth regulators                                   273\n",
       "Other plant protection products                           272\n",
       "Molluscicides                                             269"
      ]
     },
     "execution_count": 24,
     "metadata": {},
     "output_type": "execute_result"
    }
   ],
   "source": [
    "df['pesticid_name'].value_counts().to_frame()"
   ]
  },
  {
   "cell_type": "markdown",
   "metadata": {},
   "source": [
    "For the convenience of displaying float data, you can specify a common output format for pandas DataFrame using **[pandas.options.display.float_format](https://pandas.pydata.org/pandas-docs/stable/user_guide/options.html?utm_medium=Exinfluencer&utm_source=Exinfluencer&utm_content=000026UJ&utm_term=10006555&utm_id=NA-SkillsNetwork-Channel-SkillsNetworkGuidedProjectsdatascienceinagricultureprognosticationusingbyneuralnetwork466-2022-01-01)**. These settings will be active throughout the pandas library session.\n"
   ]
  },
  {
   "cell_type": "code",
   "execution_count": 25,
   "metadata": {
    "tags": []
   },
   "outputs": [
    {
     "data": {
      "text/html": [
       "<div>\n",
       "<style scoped>\n",
       "    .dataframe tbody tr th:only-of-type {\n",
       "        vertical-align: middle;\n",
       "    }\n",
       "\n",
       "    .dataframe tbody tr th {\n",
       "        vertical-align: top;\n",
       "    }\n",
       "\n",
       "    .dataframe thead th {\n",
       "        text-align: right;\n",
       "    }\n",
       "</style>\n",
       "<table border=\"1\" class=\"dataframe\">\n",
       "  <thead>\n",
       "    <tr style=\"text-align: right;\">\n",
       "      <th></th>\n",
       "      <th>OBS_VALUE</th>\n",
       "    </tr>\n",
       "    <tr>\n",
       "      <th>pesticid_name</th>\n",
       "      <th></th>\n",
       "    </tr>\n",
       "  </thead>\n",
       "  <tbody>\n",
       "    <tr>\n",
       "      <th>Fungicides and bactericides</th>\n",
       "      <td>1,524,159,525</td>\n",
       "    </tr>\n",
       "    <tr>\n",
       "      <th>Herbicides, haulm destructors and moss killers</th>\n",
       "      <td>1,214,404,016</td>\n",
       "    </tr>\n",
       "    <tr>\n",
       "      <th>Insecticides and acaricides</th>\n",
       "      <td>383,335,093</td>\n",
       "    </tr>\n",
       "    <tr>\n",
       "      <th>Other plant protection products</th>\n",
       "      <td>361,363,116</td>\n",
       "    </tr>\n",
       "    <tr>\n",
       "      <th>Plant growth regulators</th>\n",
       "      <td>125,821,810</td>\n",
       "    </tr>\n",
       "    <tr>\n",
       "      <th>Molluscicides</th>\n",
       "      <td>12,371,665</td>\n",
       "    </tr>\n",
       "  </tbody>\n",
       "</table>\n",
       "</div>"
      ],
      "text/plain": [
       "                                                   OBS_VALUE\n",
       "pesticid_name                                               \n",
       "Fungicides and bactericides                    1,524,159,525\n",
       "Herbicides, haulm destructors and moss killers 1,214,404,016\n",
       "Insecticides and acaricides                      383,335,093\n",
       "Other plant protection products                  361,363,116\n",
       "Plant growth regulators                          125,821,810\n",
       "Molluscicides                                     12,371,665"
      ]
     },
     "execution_count": 25,
     "metadata": {},
     "output_type": "execute_result"
    }
   ],
   "source": [
    "pd.options.display.float_format = '{:,.0f}'.format\n",
    "df.groupby('pesticid_name')['OBS_VALUE'].sum().sort_values(ascending=False).to_frame()"
   ]
  },
  {
   "cell_type": "markdown",
   "metadata": {},
   "source": [
    "As you can see, most of saled pesticides belong to the category \"Fungicides and bactericides\".\n"
   ]
  },
  {
   "cell_type": "markdown",
   "metadata": {},
   "source": [
    "### DataSet transformation\n"
   ]
  },
  {
   "cell_type": "markdown",
   "metadata": {},
   "source": [
    "Let's try to predict Fungicides and bactericides sales based on еру sales of other pesticides. To do this, we need to remove all NaN data (**[pandas.DataFrame.dropna()](https://pandas.pydata.org/docs/reference/api/pandas.DataFrame.dropna.html)**) and transform our DataSet using a pyvot table (**[pivot_table()](https://pandas.pydata.org/docs/reference/api/pandas.DataFrame.pivot_table.html)**).\n"
   ]
  },
  {
   "cell_type": "code",
   "execution_count": 26,
   "metadata": {
    "tags": []
   },
   "outputs": [
    {
     "data": {
      "text/html": [
       "<div>\n",
       "<style scoped>\n",
       "    .dataframe tbody tr th:only-of-type {\n",
       "        vertical-align: middle;\n",
       "    }\n",
       "\n",
       "    .dataframe tbody tr th {\n",
       "        vertical-align: top;\n",
       "    }\n",
       "\n",
       "    .dataframe thead th {\n",
       "        text-align: right;\n",
       "    }\n",
       "</style>\n",
       "<table border=\"1\" class=\"dataframe\">\n",
       "  <thead>\n",
       "    <tr style=\"text-align: right;\">\n",
       "      <th></th>\n",
       "      <th>pesticid</th>\n",
       "      <th>geo</th>\n",
       "      <th>TIME_PERIOD</th>\n",
       "      <th>OBS_VALUE</th>\n",
       "      <th>country_name</th>\n",
       "      <th>pesticid_name</th>\n",
       "    </tr>\n",
       "  </thead>\n",
       "  <tbody>\n",
       "    <tr>\n",
       "      <th>0</th>\n",
       "      <td>F</td>\n",
       "      <td>AT</td>\n",
       "      <td>2011</td>\n",
       "      <td>1,544,218</td>\n",
       "      <td>Austria</td>\n",
       "      <td>Fungicides and bactericides</td>\n",
       "    </tr>\n",
       "    <tr>\n",
       "      <th>1</th>\n",
       "      <td>F</td>\n",
       "      <td>AT</td>\n",
       "      <td>2012</td>\n",
       "      <td>1,634,371</td>\n",
       "      <td>Austria</td>\n",
       "      <td>Fungicides and bactericides</td>\n",
       "    </tr>\n",
       "    <tr>\n",
       "      <th>2</th>\n",
       "      <td>F</td>\n",
       "      <td>AT</td>\n",
       "      <td>2013</td>\n",
       "      <td>1,492,799</td>\n",
       "      <td>Austria</td>\n",
       "      <td>Fungicides and bactericides</td>\n",
       "    </tr>\n",
       "    <tr>\n",
       "      <th>3</th>\n",
       "      <td>F</td>\n",
       "      <td>AT</td>\n",
       "      <td>2014</td>\n",
       "      <td>1,641,055</td>\n",
       "      <td>Austria</td>\n",
       "      <td>Fungicides and bactericides</td>\n",
       "    </tr>\n",
       "    <tr>\n",
       "      <th>4</th>\n",
       "      <td>F</td>\n",
       "      <td>AT</td>\n",
       "      <td>2015</td>\n",
       "      <td>2,130,973</td>\n",
       "      <td>Austria</td>\n",
       "      <td>Fungicides and bactericides</td>\n",
       "    </tr>\n",
       "    <tr>\n",
       "      <th>...</th>\n",
       "      <td>...</td>\n",
       "      <td>...</td>\n",
       "      <td>...</td>\n",
       "      <td>...</td>\n",
       "      <td>...</td>\n",
       "      <td>...</td>\n",
       "    </tr>\n",
       "    <tr>\n",
       "      <th>1640</th>\n",
       "      <td>ZR</td>\n",
       "      <td>GB</td>\n",
       "      <td>2015</td>\n",
       "      <td>NaN</td>\n",
       "      <td>United Kingdom</td>\n",
       "      <td>Other plant protection products</td>\n",
       "    </tr>\n",
       "    <tr>\n",
       "      <th>1641</th>\n",
       "      <td>ZR</td>\n",
       "      <td>GB</td>\n",
       "      <td>2016</td>\n",
       "      <td>NaN</td>\n",
       "      <td>United Kingdom</td>\n",
       "      <td>Other plant protection products</td>\n",
       "    </tr>\n",
       "    <tr>\n",
       "      <th>1642</th>\n",
       "      <td>ZR</td>\n",
       "      <td>GB</td>\n",
       "      <td>2017</td>\n",
       "      <td>270,493</td>\n",
       "      <td>United Kingdom</td>\n",
       "      <td>Other plant protection products</td>\n",
       "    </tr>\n",
       "    <tr>\n",
       "      <th>1643</th>\n",
       "      <td>ZR</td>\n",
       "      <td>GB</td>\n",
       "      <td>2018</td>\n",
       "      <td>NaN</td>\n",
       "      <td>United Kingdom</td>\n",
       "      <td>Other plant protection products</td>\n",
       "    </tr>\n",
       "    <tr>\n",
       "      <th>1644</th>\n",
       "      <td>ZR</td>\n",
       "      <td>GB</td>\n",
       "      <td>2019</td>\n",
       "      <td>255,061</td>\n",
       "      <td>United Kingdom</td>\n",
       "      <td>Other plant protection products</td>\n",
       "    </tr>\n",
       "  </tbody>\n",
       "</table>\n",
       "<p>1645 rows × 6 columns</p>\n",
       "</div>"
      ],
      "text/plain": [
       "     pesticid geo  TIME_PERIOD  OBS_VALUE    country_name  \\\n",
       "0           F  AT         2011  1,544,218         Austria   \n",
       "1           F  AT         2012  1,634,371         Austria   \n",
       "2           F  AT         2013  1,492,799         Austria   \n",
       "3           F  AT         2014  1,641,055         Austria   \n",
       "4           F  AT         2015  2,130,973         Austria   \n",
       "...       ...  ..          ...        ...             ...   \n",
       "1640       ZR  GB         2015        NaN  United Kingdom   \n",
       "1641       ZR  GB         2016        NaN  United Kingdom   \n",
       "1642       ZR  GB         2017    270,493  United Kingdom   \n",
       "1643       ZR  GB         2018        NaN  United Kingdom   \n",
       "1644       ZR  GB         2019    255,061  United Kingdom   \n",
       "\n",
       "                        pesticid_name  \n",
       "0         Fungicides and bactericides  \n",
       "1         Fungicides and bactericides  \n",
       "2         Fungicides and bactericides  \n",
       "3         Fungicides and bactericides  \n",
       "4         Fungicides and bactericides  \n",
       "...                               ...  \n",
       "1640  Other plant protection products  \n",
       "1641  Other plant protection products  \n",
       "1642  Other plant protection products  \n",
       "1643  Other plant protection products  \n",
       "1644  Other plant protection products  \n",
       "\n",
       "[1645 rows x 6 columns]"
      ]
     },
     "execution_count": 26,
     "metadata": {},
     "output_type": "execute_result"
    }
   ],
   "source": [
    "df"
   ]
  },
  {
   "cell_type": "code",
   "execution_count": 27,
   "metadata": {
    "tags": []
   },
   "outputs": [
    {
     "data": {
      "text/html": [
       "<div>\n",
       "<style scoped>\n",
       "    .dataframe tbody tr th:only-of-type {\n",
       "        vertical-align: middle;\n",
       "    }\n",
       "\n",
       "    .dataframe tbody tr th {\n",
       "        vertical-align: top;\n",
       "    }\n",
       "\n",
       "    .dataframe thead th {\n",
       "        text-align: right;\n",
       "    }\n",
       "</style>\n",
       "<table border=\"1\" class=\"dataframe\">\n",
       "  <thead>\n",
       "    <tr style=\"text-align: right;\">\n",
       "      <th></th>\n",
       "      <th>pesticid</th>\n",
       "      <th>geo</th>\n",
       "      <th>TIME_PERIOD</th>\n",
       "      <th>OBS_VALUE</th>\n",
       "      <th>country_name</th>\n",
       "      <th>pesticid_name</th>\n",
       "    </tr>\n",
       "  </thead>\n",
       "  <tbody>\n",
       "    <tr>\n",
       "      <th>0</th>\n",
       "      <td>F</td>\n",
       "      <td>AT</td>\n",
       "      <td>2011</td>\n",
       "      <td>1,544,218</td>\n",
       "      <td>Austria</td>\n",
       "      <td>Fungicides and bactericides</td>\n",
       "    </tr>\n",
       "    <tr>\n",
       "      <th>1</th>\n",
       "      <td>F</td>\n",
       "      <td>AT</td>\n",
       "      <td>2012</td>\n",
       "      <td>1,634,371</td>\n",
       "      <td>Austria</td>\n",
       "      <td>Fungicides and bactericides</td>\n",
       "    </tr>\n",
       "    <tr>\n",
       "      <th>2</th>\n",
       "      <td>F</td>\n",
       "      <td>AT</td>\n",
       "      <td>2013</td>\n",
       "      <td>1,492,799</td>\n",
       "      <td>Austria</td>\n",
       "      <td>Fungicides and bactericides</td>\n",
       "    </tr>\n",
       "    <tr>\n",
       "      <th>3</th>\n",
       "      <td>F</td>\n",
       "      <td>AT</td>\n",
       "      <td>2014</td>\n",
       "      <td>1,641,055</td>\n",
       "      <td>Austria</td>\n",
       "      <td>Fungicides and bactericides</td>\n",
       "    </tr>\n",
       "    <tr>\n",
       "      <th>4</th>\n",
       "      <td>F</td>\n",
       "      <td>AT</td>\n",
       "      <td>2015</td>\n",
       "      <td>2,130,973</td>\n",
       "      <td>Austria</td>\n",
       "      <td>Fungicides and bactericides</td>\n",
       "    </tr>\n",
       "    <tr>\n",
       "      <th>...</th>\n",
       "      <td>...</td>\n",
       "      <td>...</td>\n",
       "      <td>...</td>\n",
       "      <td>...</td>\n",
       "      <td>...</td>\n",
       "      <td>...</td>\n",
       "    </tr>\n",
       "    <tr>\n",
       "      <th>1635</th>\n",
       "      <td>ZR</td>\n",
       "      <td>TR</td>\n",
       "      <td>2019</td>\n",
       "      <td>11,393,214</td>\n",
       "      <td>Turkey</td>\n",
       "      <td>Other plant protection products</td>\n",
       "    </tr>\n",
       "    <tr>\n",
       "      <th>1636</th>\n",
       "      <td>ZR</td>\n",
       "      <td>GB</td>\n",
       "      <td>2011</td>\n",
       "      <td>17,914</td>\n",
       "      <td>United Kingdom</td>\n",
       "      <td>Other plant protection products</td>\n",
       "    </tr>\n",
       "    <tr>\n",
       "      <th>1637</th>\n",
       "      <td>ZR</td>\n",
       "      <td>GB</td>\n",
       "      <td>2012</td>\n",
       "      <td>10,805</td>\n",
       "      <td>United Kingdom</td>\n",
       "      <td>Other plant protection products</td>\n",
       "    </tr>\n",
       "    <tr>\n",
       "      <th>1642</th>\n",
       "      <td>ZR</td>\n",
       "      <td>GB</td>\n",
       "      <td>2017</td>\n",
       "      <td>270,493</td>\n",
       "      <td>United Kingdom</td>\n",
       "      <td>Other plant protection products</td>\n",
       "    </tr>\n",
       "    <tr>\n",
       "      <th>1644</th>\n",
       "      <td>ZR</td>\n",
       "      <td>GB</td>\n",
       "      <td>2019</td>\n",
       "      <td>255,061</td>\n",
       "      <td>United Kingdom</td>\n",
       "      <td>Other plant protection products</td>\n",
       "    </tr>\n",
       "  </tbody>\n",
       "</table>\n",
       "<p>1527 rows × 6 columns</p>\n",
       "</div>"
      ],
      "text/plain": [
       "     pesticid geo  TIME_PERIOD  OBS_VALUE    country_name  \\\n",
       "0           F  AT         2011  1,544,218         Austria   \n",
       "1           F  AT         2012  1,634,371         Austria   \n",
       "2           F  AT         2013  1,492,799         Austria   \n",
       "3           F  AT         2014  1,641,055         Austria   \n",
       "4           F  AT         2015  2,130,973         Austria   \n",
       "...       ...  ..          ...        ...             ...   \n",
       "1635       ZR  TR         2019 11,393,214          Turkey   \n",
       "1636       ZR  GB         2011     17,914  United Kingdom   \n",
       "1637       ZR  GB         2012     10,805  United Kingdom   \n",
       "1642       ZR  GB         2017    270,493  United Kingdom   \n",
       "1644       ZR  GB         2019    255,061  United Kingdom   \n",
       "\n",
       "                        pesticid_name  \n",
       "0         Fungicides and bactericides  \n",
       "1         Fungicides and bactericides  \n",
       "2         Fungicides and bactericides  \n",
       "3         Fungicides and bactericides  \n",
       "4         Fungicides and bactericides  \n",
       "...                               ...  \n",
       "1635  Other plant protection products  \n",
       "1636  Other plant protection products  \n",
       "1637  Other plant protection products  \n",
       "1642  Other plant protection products  \n",
       "1644  Other plant protection products  \n",
       "\n",
       "[1527 rows x 6 columns]"
      ]
     },
     "execution_count": 27,
     "metadata": {},
     "output_type": "execute_result"
    }
   ],
   "source": [
    "df = df.dropna()\n",
    "df"
   ]
  },
  {
   "cell_type": "code",
   "execution_count": 28,
   "metadata": {
    "tags": []
   },
   "outputs": [
    {
     "data": {
      "text/html": [
       "<div>\n",
       "<style scoped>\n",
       "    .dataframe tbody tr th:only-of-type {\n",
       "        vertical-align: middle;\n",
       "    }\n",
       "\n",
       "    .dataframe tbody tr th {\n",
       "        vertical-align: top;\n",
       "    }\n",
       "\n",
       "    .dataframe thead th {\n",
       "        text-align: right;\n",
       "    }\n",
       "</style>\n",
       "<table border=\"1\" class=\"dataframe\">\n",
       "  <thead>\n",
       "    <tr style=\"text-align: right;\">\n",
       "      <th></th>\n",
       "      <th>pesticid_name</th>\n",
       "      <th>Fungicides and bactericides</th>\n",
       "      <th>Herbicides, haulm destructors and moss killers</th>\n",
       "      <th>Insecticides and acaricides</th>\n",
       "      <th>Molluscicides</th>\n",
       "      <th>Plant growth regulators</th>\n",
       "      <th>Other plant protection products</th>\n",
       "    </tr>\n",
       "    <tr>\n",
       "      <th>country_name</th>\n",
       "      <th>TIME_PERIOD</th>\n",
       "      <th></th>\n",
       "      <th></th>\n",
       "      <th></th>\n",
       "      <th></th>\n",
       "      <th></th>\n",
       "      <th></th>\n",
       "    </tr>\n",
       "  </thead>\n",
       "  <tbody>\n",
       "    <tr>\n",
       "      <th rowspan=\"5\" valign=\"top\">Austria</th>\n",
       "      <th>2011</th>\n",
       "      <td>1544218</td>\n",
       "      <td>1505163</td>\n",
       "      <td>247982</td>\n",
       "      <td>33428</td>\n",
       "      <td>59369</td>\n",
       "      <td>58114</td>\n",
       "    </tr>\n",
       "    <tr>\n",
       "      <th>2012</th>\n",
       "      <td>1634371</td>\n",
       "      <td>1544519</td>\n",
       "      <td>244079</td>\n",
       "      <td>23653</td>\n",
       "      <td>67373</td>\n",
       "      <td>43028</td>\n",
       "    </tr>\n",
       "    <tr>\n",
       "      <th>2013</th>\n",
       "      <td>1492799</td>\n",
       "      <td>1227017</td>\n",
       "      <td>238252</td>\n",
       "      <td>13471</td>\n",
       "      <td>45386</td>\n",
       "      <td>80517</td>\n",
       "    </tr>\n",
       "    <tr>\n",
       "      <th>2014</th>\n",
       "      <td>1641055</td>\n",
       "      <td>1375815</td>\n",
       "      <td>240298</td>\n",
       "      <td>16180</td>\n",
       "      <td>53530</td>\n",
       "      <td>46345</td>\n",
       "    </tr>\n",
       "    <tr>\n",
       "      <th>2015</th>\n",
       "      <td>2130973</td>\n",
       "      <td>1317219</td>\n",
       "      <td>195649</td>\n",
       "      <td>21214</td>\n",
       "      <td>68722</td>\n",
       "      <td>43840</td>\n",
       "    </tr>\n",
       "    <tr>\n",
       "      <th>...</th>\n",
       "      <th>...</th>\n",
       "      <td>...</td>\n",
       "      <td>...</td>\n",
       "      <td>...</td>\n",
       "      <td>...</td>\n",
       "      <td>...</td>\n",
       "      <td>...</td>\n",
       "    </tr>\n",
       "    <tr>\n",
       "      <th rowspan=\"5\" valign=\"top\">United Kingdom</th>\n",
       "      <th>2015</th>\n",
       "      <td>6032359</td>\n",
       "      <td>11463648</td>\n",
       "      <td>657938</td>\n",
       "      <td>0</td>\n",
       "      <td>3171290</td>\n",
       "      <td>0</td>\n",
       "    </tr>\n",
       "    <tr>\n",
       "      <th>2016</th>\n",
       "      <td>5330003</td>\n",
       "      <td>9810278</td>\n",
       "      <td>347876</td>\n",
       "      <td>0</td>\n",
       "      <td>0</td>\n",
       "      <td>0</td>\n",
       "    </tr>\n",
       "    <tr>\n",
       "      <th>2017</th>\n",
       "      <td>5484053</td>\n",
       "      <td>9681731</td>\n",
       "      <td>433843</td>\n",
       "      <td>0</td>\n",
       "      <td>0</td>\n",
       "      <td>270493</td>\n",
       "    </tr>\n",
       "    <tr>\n",
       "      <th>2018</th>\n",
       "      <td>4492460</td>\n",
       "      <td>10891852</td>\n",
       "      <td>131984</td>\n",
       "      <td>0</td>\n",
       "      <td>0</td>\n",
       "      <td>0</td>\n",
       "    </tr>\n",
       "    <tr>\n",
       "      <th>2019</th>\n",
       "      <td>6056984</td>\n",
       "      <td>9890402</td>\n",
       "      <td>226423</td>\n",
       "      <td>0</td>\n",
       "      <td>0</td>\n",
       "      <td>255061</td>\n",
       "    </tr>\n",
       "  </tbody>\n",
       "</table>\n",
       "<p>288 rows × 6 columns</p>\n",
       "</div>"
      ],
      "text/plain": [
       "pesticid_name               Fungicides and bactericides  \\\n",
       "country_name   TIME_PERIOD                                \n",
       "Austria        2011                             1544218   \n",
       "               2012                             1634371   \n",
       "               2013                             1492799   \n",
       "               2014                             1641055   \n",
       "               2015                             2130973   \n",
       "...                                                 ...   \n",
       "United Kingdom 2015                             6032359   \n",
       "               2016                             5330003   \n",
       "               2017                             5484053   \n",
       "               2018                             4492460   \n",
       "               2019                             6056984   \n",
       "\n",
       "pesticid_name               Herbicides, haulm destructors and moss killers  \\\n",
       "country_name   TIME_PERIOD                                                   \n",
       "Austria        2011                                                1505163   \n",
       "               2012                                                1544519   \n",
       "               2013                                                1227017   \n",
       "               2014                                                1375815   \n",
       "               2015                                                1317219   \n",
       "...                                                                    ...   \n",
       "United Kingdom 2015                                               11463648   \n",
       "               2016                                                9810278   \n",
       "               2017                                                9681731   \n",
       "               2018                                               10891852   \n",
       "               2019                                                9890402   \n",
       "\n",
       "pesticid_name               Insecticides and acaricides  Molluscicides  \\\n",
       "country_name   TIME_PERIOD                                               \n",
       "Austria        2011                              247982          33428   \n",
       "               2012                              244079          23653   \n",
       "               2013                              238252          13471   \n",
       "               2014                              240298          16180   \n",
       "               2015                              195649          21214   \n",
       "...                                                 ...            ...   \n",
       "United Kingdom 2015                              657938              0   \n",
       "               2016                              347876              0   \n",
       "               2017                              433843              0   \n",
       "               2018                              131984              0   \n",
       "               2019                              226423              0   \n",
       "\n",
       "pesticid_name               Plant growth regulators  \\\n",
       "country_name   TIME_PERIOD                            \n",
       "Austria        2011                           59369   \n",
       "               2012                           67373   \n",
       "               2013                           45386   \n",
       "               2014                           53530   \n",
       "               2015                           68722   \n",
       "...                                             ...   \n",
       "United Kingdom 2015                         3171290   \n",
       "               2016                               0   \n",
       "               2017                               0   \n",
       "               2018                               0   \n",
       "               2019                               0   \n",
       "\n",
       "pesticid_name               Other plant protection products  \n",
       "country_name   TIME_PERIOD                                   \n",
       "Austria        2011                                   58114  \n",
       "               2012                                   43028  \n",
       "               2013                                   80517  \n",
       "               2014                                   46345  \n",
       "               2015                                   43840  \n",
       "...                                                     ...  \n",
       "United Kingdom 2015                                       0  \n",
       "               2016                                       0  \n",
       "               2017                                  270493  \n",
       "               2018                                       0  \n",
       "               2019                                  255061  \n",
       "\n",
       "[288 rows x 6 columns]"
      ]
     },
     "execution_count": 28,
     "metadata": {},
     "output_type": "execute_result"
    }
   ],
   "source": [
    "p_df = df.pivot_table(values='OBS_VALUE', index= [ 'country_name', 'TIME_PERIOD',], columns=['pesticid_name'], aggfunc=np.sum, margins=False, dropna=False, fill_value=0)\n",
    "p_df"
   ]
  },
  {
   "cell_type": "markdown",
   "metadata": {},
   "source": [
    "We created a new DataSet that will be used for forecasting. Let's visualize this data by **[pandas.DataFrame.plot()](https://pandas.pydata.org/docs/reference/api/pandas.DataFrame.plot.html?utm_medium=Exinfluencer&utm_source=Exinfluencer&utm_content=000026UJ&utm_term=10006555&utm_id=NA-SkillsNetwork-Channel-SkillsNetworkGuidedProjectsdatascienceinagricultureprognosticationusingbyneuralnetwork466-2022-01-01&highlight=plot#pandas.DataFrame.plot)**. It should be noted that pandas incapsulate matplotlib library and inherit the function plot(). Therefore, to show this plot, we need to import matplotlib library and apply function **[matplotlib.pyplot.show()](https://matplotlib.org/stable/api/_as_gen/matplotlib.pyplot.show.html?utm_medium=Exinfluencer&utm_source=Exinfluencer&utm_content=000026UJ&utm_term=10006555&utm_id=NA-SkillsNetwork-Channel-SkillsNetworkGuidedProjectsdatascienceinagricultureprognosticationusingbyneuralnetwork466-2022-01-01)**.\n"
   ]
  },
  {
   "cell_type": "code",
   "execution_count": 29,
   "metadata": {
    "tags": []
   },
   "outputs": [
    {
     "data": {
      "image/png": "[encoded data removed]",
      "text/plain": [
       "<Figure size 640x480 with 1 Axes>"
      ]
     },
     "metadata": {},
     "output_type": "display_data"
    }
   ],
   "source": [
    "p_df.plot()\n",
    "import matplotlib.pyplot as plt\n",
    "plt.xticks(rotation=45)\n",
    "plt.show()"
   ]
  },
  {
   "cell_type": "markdown",
   "metadata": {},
   "source": [
    "## Forecasting\n"
   ]
  },
  {
   "cell_type": "markdown",
   "metadata": {},
   "source": [
    "### Hypothesis creation\n"
   ]
  },
  {
   "cell_type": "markdown",
   "metadata": {},
   "source": [
    "Before making a forecast, you should first determine the target (output) field for which the forecast will be built. The next step is to create a hypothesis that involves determining the input fields which our target depends on. Let's try to make a prediction about Fungicides and bactericides sales. We can propose the following hypothesis: sales depend on the sales of other pesticides.\n",
    "\n",
    "To check this hypothesis, we should make a correlation analysis using **[pandas.DataFrame.corr()](https://pandas.pydata.org/pandas-docs/stable/reference/api/pandas.DataFrame.corr.html?utm_medium=Exinfluencer&utm_source=Exinfluencer&utm_content=000026UJ&utm_term=10006555&utm_id=NA-SkillsNetwork-Channel-SkillsNetworkGuidedProjectsdatascienceinagricultureprognosticationusingbyneuralnetwork466-2022-01-01&highlight=corr#pandas-dataframe-corr)**.\n"
   ]
  },
  {
   "cell_type": "code",
   "execution_count": 30,
   "metadata": {
    "tags": []
   },
   "outputs": [
    {
     "data": {
      "text/html": [
       "<div>\n",
       "<style scoped>\n",
       "    .dataframe tbody tr th:only-of-type {\n",
       "        vertical-align: middle;\n",
       "    }\n",
       "\n",
       "    .dataframe tbody tr th {\n",
       "        vertical-align: top;\n",
       "    }\n",
       "\n",
       "    .dataframe thead th {\n",
       "        text-align: right;\n",
       "    }\n",
       "</style>\n",
       "<table border=\"1\" class=\"dataframe\">\n",
       "  <thead>\n",
       "    <tr style=\"text-align: right;\">\n",
       "      <th>pesticid_name</th>\n",
       "      <th>Fungicides and bactericides</th>\n",
       "      <th>Herbicides, haulm destructors and moss killers</th>\n",
       "      <th>Insecticides and acaricides</th>\n",
       "      <th>Molluscicides</th>\n",
       "      <th>Plant growth regulators</th>\n",
       "      <th>Other plant protection products</th>\n",
       "    </tr>\n",
       "    <tr>\n",
       "      <th>pesticid_name</th>\n",
       "      <th></th>\n",
       "      <th></th>\n",
       "      <th></th>\n",
       "      <th></th>\n",
       "      <th></th>\n",
       "      <th></th>\n",
       "    </tr>\n",
       "  </thead>\n",
       "  <tbody>\n",
       "    <tr>\n",
       "      <th>Fungicides and bactericides</th>\n",
       "      <td>1.00</td>\n",
       "      <td>0.76</td>\n",
       "      <td>0.54</td>\n",
       "      <td>0.58</td>\n",
       "      <td>0.43</td>\n",
       "      <td>0.81</td>\n",
       "    </tr>\n",
       "    <tr>\n",
       "      <th>Herbicides, haulm destructors and moss killers</th>\n",
       "      <td>0.76</td>\n",
       "      <td>1.00</td>\n",
       "      <td>0.60</td>\n",
       "      <td>0.79</td>\n",
       "      <td>0.81</td>\n",
       "      <td>0.37</td>\n",
       "    </tr>\n",
       "    <tr>\n",
       "      <th>Insecticides and acaricides</th>\n",
       "      <td>0.54</td>\n",
       "      <td>0.60</td>\n",
       "      <td>1.00</td>\n",
       "      <td>0.42</td>\n",
       "      <td>0.65</td>\n",
       "      <td>0.40</td>\n",
       "    </tr>\n",
       "    <tr>\n",
       "      <th>Molluscicides</th>\n",
       "      <td>0.58</td>\n",
       "      <td>0.79</td>\n",
       "      <td>0.42</td>\n",
       "      <td>1.00</td>\n",
       "      <td>0.69</td>\n",
       "      <td>0.23</td>\n",
       "    </tr>\n",
       "    <tr>\n",
       "      <th>Plant growth regulators</th>\n",
       "      <td>0.43</td>\n",
       "      <td>0.81</td>\n",
       "      <td>0.65</td>\n",
       "      <td>0.69</td>\n",
       "      <td>1.00</td>\n",
       "      <td>0.06</td>\n",
       "    </tr>\n",
       "    <tr>\n",
       "      <th>Other plant protection products</th>\n",
       "      <td>0.81</td>\n",
       "      <td>0.37</td>\n",
       "      <td>0.40</td>\n",
       "      <td>0.23</td>\n",
       "      <td>0.06</td>\n",
       "      <td>1.00</td>\n",
       "    </tr>\n",
       "  </tbody>\n",
       "</table>\n",
       "</div>"
      ],
      "text/plain": [
       "pesticid_name                                   Fungicides and bactericides  \\\n",
       "pesticid_name                                                                 \n",
       "Fungicides and bactericides                                            1.00   \n",
       "Herbicides, haulm destructors and moss killers                         0.76   \n",
       "Insecticides and acaricides                                            0.54   \n",
       "Molluscicides                                                          0.58   \n",
       "Plant growth regulators                                                0.43   \n",
       "Other plant protection products                                        0.81   \n",
       "\n",
       "pesticid_name                                   Herbicides, haulm destructors and moss killers  \\\n",
       "pesticid_name                                                                                    \n",
       "Fungicides and bactericides                                                               0.76   \n",
       "Herbicides, haulm destructors and moss killers                                            1.00   \n",
       "Insecticides and acaricides                                                               0.60   \n",
       "Molluscicides                                                                             0.79   \n",
       "Plant growth regulators                                                                   0.81   \n",
       "Other plant protection products                                                           0.37   \n",
       "\n",
       "pesticid_name                                   Insecticides and acaricides  \\\n",
       "pesticid_name                                                                 \n",
       "Fungicides and bactericides                                            0.54   \n",
       "Herbicides, haulm destructors and moss killers                         0.60   \n",
       "Insecticides and acaricides                                            1.00   \n",
       "Molluscicides                                                          0.42   \n",
       "Plant growth regulators                                                0.65   \n",
       "Other plant protection products                                        0.40   \n",
       "\n",
       "pesticid_name                                   Molluscicides  \\\n",
       "pesticid_name                                                   \n",
       "Fungicides and bactericides                              0.58   \n",
       "Herbicides, haulm destructors and moss killers           0.79   \n",
       "Insecticides and acaricides                              0.42   \n",
       "Molluscicides                                            1.00   \n",
       "Plant growth regulators                                  0.69   \n",
       "Other plant protection products                          0.23   \n",
       "\n",
       "pesticid_name                                   Plant growth regulators  \\\n",
       "pesticid_name                                                             \n",
       "Fungicides and bactericides                                        0.43   \n",
       "Herbicides, haulm destructors and moss killers                     0.81   \n",
       "Insecticides and acaricides                                        0.65   \n",
       "Molluscicides                                                      0.69   \n",
       "Plant growth regulators                                            1.00   \n",
       "Other plant protection products                                    0.06   \n",
       "\n",
       "pesticid_name                                   Other plant protection products  \n",
       "pesticid_name                                                                    \n",
       "Fungicides and bactericides                                                0.81  \n",
       "Herbicides, haulm destructors and moss killers                             0.37  \n",
       "Insecticides and acaricides                                                0.40  \n",
       "Molluscicides                                                              0.23  \n",
       "Plant growth regulators                                                    0.06  \n",
       "Other plant protection products                                            1.00  "
      ]
     },
     "execution_count": 30,
     "metadata": {},
     "output_type": "execute_result"
    }
   ],
   "source": [
    "pd.options.display.float_format = '{:,.2f}'.format\n",
    "p_df.corr()"
   ]
  },
  {
   "cell_type": "markdown",
   "metadata": {},
   "source": [
    "Each cell contains the correlation coefficients between two columns. Therefore, diagonal elements are equal to one. As can be seen from the Fungicides and bactericides column (or row), all the correlation coefficients are between 0.43 and 0.81. It means that there are nonlinear dependencies. To begin with, we will test linear models, which accuracy will be compared with the accuracy of nonlinear models. \n"
   ]
  },
  {
   "cell_type": "markdown",
   "metadata": {},
   "source": [
    "### Splitting the DataSet into training and test sets\n"
   ]
  },
  {
   "cell_type": "markdown",
   "metadata": {},
   "source": [
    "For the model fitting and testing, it is necessary to divide the DataSet into a training and a test set. You can implement this with the classic Python tools such as slices or using a special function with many flexible settings (**[sklearn.model_selection.train_test_split()](https://scikit-learn.org/stable/modules/generated/sklearn.model_selection.train_test_split.html?utm_medium=Exinfluencer&utm_source=Exinfluencer&utm_content=000026UJ&utm_term=10006555&utm_id=NA-SkillsNetwork-Channel-SkillsNetworkGuidedProjectsdatascienceinagricultureprognosticationusingbyneuralnetwork466-2022-01-01)**).\n",
    "We will take 30% of our DataSet for a test set.\n"
   ]
  },
  {
   "cell_type": "code",
   "execution_count": 31,
   "metadata": {
    "tags": []
   },
   "outputs": [],
   "source": [
    "proportion_train_test = 0.7\n",
    "l = int(proportion_train_test * len(p_df))\n",
    "col = p_df.columns"
   ]
  },
  {
   "cell_type": "code",
   "execution_count": 32,
   "metadata": {
    "tags": []
   },
   "outputs": [],
   "source": [
    "# Slises:\n",
    "X_train, X_test, y_train, y_test = p_df[col[1:]][:l], p_df[col[1:]][l:], p_df[col[0]][:l], p_df[col[0]][l:]"
   ]
  },
  {
   "cell_type": "markdown",
   "metadata": {},
   "source": [
    "<details><summary>Click <b>here</b> for the solution</summary> \n",
    "X_train, X_test, y_train, y_test = p_df[col[1:]][:l], p_df[col[1:]][l:], p_df[col[0]][:l], p_df[col[0]][l:]\n",
    "</details>\n"
   ]
  },
  {
   "cell_type": "code",
   "execution_count": 33,
   "metadata": {
    "tags": []
   },
   "outputs": [],
   "source": [
    "# sklearn function\n",
    "from sklearn.model_selection import train_test_split\n",
    "X_train, X_test, y_train, y_test = train_test_split(p_df[col[1:]], p_df[col[0]], test_size=0.3, shuffle=False)"
   ]
  },
  {
   "cell_type": "markdown",
   "metadata": {},
   "source": [
    "As a result, we got training and test DataSets.\n"
   ]
  },
  {
   "cell_type": "code",
   "execution_count": 34,
   "metadata": {
    "tags": []
   },
   "outputs": [
    {
     "name": "stdout",
     "output_type": "stream",
     "text": [
      "X_train (201, 5)\n",
      "X_test (87, 5)\n",
      "y_train (201,)\n",
      "y_test (87,)\n"
     ]
    }
   ],
   "source": [
    "print('X_train', X_train.shape)\n",
    "print('X_test', X_test.shape)\n",
    "print('y_train', y_train.shape)\n",
    "print('y_test', y_test.shape)"
   ]
  },
  {
   "cell_type": "markdown",
   "metadata": {},
   "source": [
    "### Creating a linear model using sklearn\n"
   ]
  },
  {
   "cell_type": "markdown",
   "metadata": {},
   "source": [
    "To build a linear model, it is necessary to create the linear model itself, fit it, test it, and make a prediction.\n",
    "To do this, use **[sklearn.linear_model.LinearRegression()](https://scikit-learn.org/stable/modules/generated/sklearn.linear_model.LinearRegression.html?utm_medium=Exinfluencer&utm_source=Exinfluencer&utm_content=000026UJ&utm_term=10006555&utm_id=NA-SkillsNetwork-Channel-SkillsNetworkGuidedProjectsdatascienceinagricultureprognosticationusingbyneuralnetwork466-2022-01-01)**.\n"
   ]
  },
  {
   "cell_type": "code",
   "execution_count": 35,
   "metadata": {
    "tags": []
   },
   "outputs": [],
   "source": [
    "from sklearn.linear_model import LinearRegression\n",
    "regressor = LinearRegression()\n",
    "regressor.fit(X_train, y_train)\n",
    "y_pred_test = regressor.predict(X_test)\n",
    "y_pred_train = regressor.predict(X_train)"
   ]
  },
  {
   "cell_type": "markdown",
   "metadata": {},
   "source": [
    "<details><summary>Click <b>here</b> for the solution</summary> <code>\n",
    "regressor = LinearRegression()\n",
    "regressor.fit(X_train, y_train)\n",
    "y_pred_test = regressor.predict(X_test)\n",
    "y_pred_train = regressor.predict(X_train)\n",
    "</code></details>\n"
   ]
  },
  {
   "cell_type": "markdown",
   "metadata": {},
   "source": [
    "### Calculation of basic statistical indicators\n"
   ]
  },
  {
   "cell_type": "markdown",
   "metadata": {},
   "source": [
    "The prediction results for the training and test sets are in **y_pred_test** and **y_pred_train** variables. After that, we can check the adequacy and accurancy of our model using **[sklearn.metrics](https://scikit-learn.org/stable/modules/model_evaluation.html?utm_medium=Exinfluencer&utm_source=Exinfluencer&utm_content=000026UJ&utm_term=10006555&utm_id=NA-SkillsNetwork-Channel-SkillsNetworkGuidedProjectsdatascienceinagricultureprognosticationusingbyneuralnetwork466-2022-01-01)**. Also we can get the parameters of the linear model.\n"
   ]
  },
  {
   "cell_type": "code",
   "execution_count": 39,
   "metadata": {
    "tags": []
   },
   "outputs": [
    {
     "name": "stdout",
     "output_type": "stream",
     "text": [
      "Correlation train 0.9625862760904372\n",
      "Correlation test 0.6888681049525154\n",
      "Coefficients: [ 0.79232453  0.14383752  7.98578085 -1.58666929  2.12375616]\n",
      "Pair the feature names with the coefficients:\n",
      "Herbicides, haulm destructors and moss killers : 0.7923245331894001\n",
      "Insecticides and acaricides : 0.14383751668946254\n",
      "Molluscicides : 7.985780854705388\n",
      "Plant growth regulators : -1.5866692946920782\n",
      "Other plant protection products : 2.123756164169985\n",
      "Mean Absolute Error (train): 1032241.3884064512\n",
      "Mean Absolute Error (test): 2720115.1020331895\n",
      "Mean Squared Error (train): 3225638565885.036\n",
      "Mean Squared Error (test): 34849571028214.34\n",
      "Root Mean Squared Error (train): 1796006.2822509937\n",
      "Root Mean Squared Error (test): 5903352.524474067\n"
     ]
    }
   ],
   "source": [
    "from sklearn import metrics\n",
    "print(\"Correlation train\", regressor.score(X_train, y_train))\n",
    "print(\"Correlation test\", regressor.score(X_test, y_test))\n",
    "print(\"Coefficients:\", regressor.coef_)\n",
    "# pair the feature names with the coefficients\n",
    "print('Pair the feature names with the coefficients:')\n",
    "for s in zip(col[1:], regressor.coef_):\n",
    "    print(s[0], \":\", s[1])\n",
    "print('Mean Absolute Error (train):', metrics.mean_absolute_error(y_train, y_pred_train))\n",
    "print('Mean Absolute Error (test):', metrics.mean_absolute_error(y_test, y_pred_test))\n",
    "print('Mean Squared Error (train):', metrics.mean_squared_error(y_train, y_pred_train))\n",
    "print('Mean Squared Error (test):', metrics.mean_squared_error(y_test, y_pred_test))\n",
    "print('Root Mean Squared Error (train):', np.sqrt(metrics.mean_squared_error(y_train, y_pred_train)))\n",
    "print('Root Mean Squared Error (test):', np.sqrt(metrics.mean_squared_error(y_test, y_pred_test)))"
   ]
  },
  {
   "cell_type": "markdown",
   "metadata": {},
   "source": [
    "<details><summary>Click <b>here</b> for the solution</summary> <code>\n",
    "print('Mean Absolute Error (train):', metrics.mean_absolute_error(y_train, y_pred_train))\n",
    "print('Mean Absolute Error (test):', metrics.mean_absolute_error(y_test, y_pred_test))\n",
    "print('Mean Squared Error (train):', metrics.mean_squared_error(y_train, y_pred_train))\n",
    "print('Mean Squared Error (test):', metrics.mean_squared_error(y_test, y_pred_test))\n",
    "print('Root Mean Squared Error (train):', np.sqrt(metrics.mean_squared_error(y_train, y_pred_train)))\n",
    "print('Root Mean Squared Error (test):', np.sqrt(metrics.mean_squared_error(y_test, y_pred_test)))\n",
    "</code></details>\n"
   ]
  },
  {
   "cell_type": "markdown",
   "metadata": {},
   "source": [
    "### Creating models using statsmodels\n"
   ]
  },
  {
   "cell_type": "markdown",
   "metadata": {},
   "source": [
    "As you can see, there is a big difference in accuracy between the training and test results. It means that this linear model is not correct. \n",
    "Besides, this framework cannot generate a summary report.\n",
    "To do this, we can use the **[statsmodels.api](https://www.statsmodels.org/stable/index.html?utm_medium=Exinfluencer&utm_source=Exinfluencer&utm_content=000026UJ&utm_term=10006555&utm_id=NA-SkillsNetwork-Channel-SkillsNetworkGuidedProjectsdatascienceinagricultureprognosticationusingbyneuralnetwork466-2022-01-01)** framework.\n"
   ]
  },
  {
   "cell_type": "code",
   "execution_count": 40,
   "metadata": {
    "tags": []
   },
   "outputs": [
    {
     "name": "stdout",
     "output_type": "stream",
     "text": [
      "                                     OLS Regression Results                                     \n",
      "================================================================================================\n",
      "Dep. Variable:     Fungicides and bactericides   R-squared (uncentered):                   0.970\n",
      "Model:                                     OLS   Adj. R-squared (uncentered):              0.969\n",
      "Method:                          Least Squares   F-statistic:                              1248.\n",
      "Date:                         Wed, 22 May 2024   Prob (F-statistic):                   1.74e-146\n",
      "Time:                                 14:35:02   Log-Likelihood:                         -3180.6\n",
      "No. Observations:                          201   AIC:                                      6371.\n",
      "Df Residuals:                              196   BIC:                                      6388.\n",
      "Df Model:                                    5                                                  \n",
      "Covariance Type:                     nonrobust                                                  \n",
      "==================================================================================================================\n",
      "                                                     coef    std err          t      P>|t|      [0.025      0.975]\n",
      "------------------------------------------------------------------------------------------------------------------\n",
      "Herbicides, haulm destructors and moss killers     0.7732      0.069     11.127      0.000       0.636       0.910\n",
      "Insecticides and acaricides                        0.1520      0.076      1.990      0.048       0.001       0.303\n",
      "Molluscicides                                      8.6694      1.861      4.659      0.000       4.999      12.339\n",
      "Plant growth regulators                           -1.6382      0.555     -2.954      0.004      -2.732      -0.544\n",
      "Other plant protection products                    2.1155      0.055     38.449      0.000       2.007       2.224\n",
      "==============================================================================\n",
      "Omnibus:                       52.085   Durbin-Watson:                   1.043\n",
      "Prob(Omnibus):                  0.000   Jarque-Bera (JB):             1158.183\n",
      "Skew:                           0.031   Prob(JB):                    3.19e-252\n",
      "Kurtosis:                      14.760   Cond. No.                         118.\n",
      "==============================================================================\n",
      "\n",
      "Notes:\n",
      "[1] R² is computed without centering (uncentered) since the model does not contain a constant.\n",
      "[2] Standard Errors assume that the covariance matrix of the errors is correctly specified.\n"
     ]
    }
   ],
   "source": [
    "import statsmodels.api as sm\n",
    "model = sm.OLS(y_train, X_train)\n",
    "results = model.fit()\n",
    "y_pred_test_OLS = results.predict(X_test)\n",
    "y_pred_train_OLS = results.predict(X_train)\n",
    "print(results.summary())"
   ]
  },
  {
   "cell_type": "markdown",
   "metadata": {},
   "source": [
    "As you can see, this framework uses the same principles for creating and fitting models. It allows us to build a summary report, also you can get all the other stats coefficients in the same way:\n"
   ]
  },
  {
   "cell_type": "code",
   "execution_count": 41,
   "metadata": {
    "tags": []
   },
   "outputs": [
    {
     "name": "stdout",
     "output_type": "stream",
     "text": [
      "coefficient of determination: 0.9695510214809883\n",
      "adjusted coefficient of determination: 0.968774261824891\n",
      "regression coefficients:\n",
      "Herbicides, haulm destructors and moss killers    0.77\n",
      "Insecticides and acaricides                       0.15\n",
      "Molluscicides                                     8.67\n",
      "Plant growth regulators                          -1.64\n",
      "Other plant protection products                   2.12\n",
      "dtype: float64\n"
     ]
    }
   ],
   "source": [
    "print('coefficient of determination:', results.rsquared)\n",
    "print('adjusted coefficient of determination:', results.rsquared_adj)\n",
    "print('regression coefficients:', results.params, sep = '\\n')"
   ]
  },
  {
   "cell_type": "markdown",
   "metadata": {},
   "source": [
    "We should join the results to compare these two framework models using **[pandas.DataFrame.join()](https://pandas.pydata.org/docs/reference/api/pandas.DataFrame.join.html?utm_medium=Exinfluencer&utm_source=Exinfluencer&utm_content=000026UJ&utm_term=10006555&utm_id=NA-SkillsNetwork-Channel-SkillsNetworkGuidedProjectsdatascienceinagricultureprognosticationusingbyneuralnetwork466-2022-01-01)**:\n"
   ]
  },
  {
   "cell_type": "code",
   "execution_count": 42,
   "metadata": {
    "tags": []
   },
   "outputs": [
    {
     "data": {
      "text/html": [
       "<div>\n",
       "<style scoped>\n",
       "    .dataframe tbody tr th:only-of-type {\n",
       "        vertical-align: middle;\n",
       "    }\n",
       "\n",
       "    .dataframe tbody tr th {\n",
       "        vertical-align: top;\n",
       "    }\n",
       "\n",
       "    .dataframe thead th {\n",
       "        text-align: right;\n",
       "    }\n",
       "</style>\n",
       "<table border=\"1\" class=\"dataframe\">\n",
       "  <thead>\n",
       "    <tr style=\"text-align: right;\">\n",
       "      <th></th>\n",
       "      <th></th>\n",
       "      <th>Actual_train</th>\n",
       "      <th>Predicted_train</th>\n",
       "      <th>Predicted_train_OLS</th>\n",
       "      <th>Actual_test</th>\n",
       "      <th>Predicted_test</th>\n",
       "      <th>Predicted_test_OLS</th>\n",
       "    </tr>\n",
       "    <tr>\n",
       "      <th>country_name</th>\n",
       "      <th>TIME_PERIOD</th>\n",
       "      <th></th>\n",
       "      <th></th>\n",
       "      <th></th>\n",
       "      <th></th>\n",
       "      <th></th>\n",
       "      <th></th>\n",
       "    </tr>\n",
       "  </thead>\n",
       "  <tbody>\n",
       "    <tr>\n",
       "      <th rowspan=\"5\" valign=\"top\">Austria</th>\n",
       "      <th>2011</th>\n",
       "      <td>1,544,218.00</td>\n",
       "      <td>1,335,677.58</td>\n",
       "      <td>1,516,917.57</td>\n",
       "      <td>NaN</td>\n",
       "      <td>NaN</td>\n",
       "      <td>NaN</td>\n",
       "    </tr>\n",
       "    <tr>\n",
       "      <th>2012</th>\n",
       "      <td>1,634,371.00</td>\n",
       "      <td>1,243,499.21</td>\n",
       "      <td>1,416,984.06</td>\n",
       "      <td>NaN</td>\n",
       "      <td>NaN</td>\n",
       "      <td>NaN</td>\n",
       "    </tr>\n",
       "    <tr>\n",
       "      <th>2013</th>\n",
       "      <td>1,492,799.00</td>\n",
       "      <td>1,024,288.82</td>\n",
       "      <td>1,197,669.29</td>\n",
       "      <td>NaN</td>\n",
       "      <td>NaN</td>\n",
       "      <td>NaN</td>\n",
       "    </tr>\n",
       "    <tr>\n",
       "      <th>2014</th>\n",
       "      <td>1,641,055.00</td>\n",
       "      <td>1,078,618.07</td>\n",
       "      <td>1,250,880.79</td>\n",
       "      <td>NaN</td>\n",
       "      <td>NaN</td>\n",
       "      <td>NaN</td>\n",
       "    </tr>\n",
       "    <tr>\n",
       "      <th>2015</th>\n",
       "      <td>2,130,973.00</td>\n",
       "      <td>1,036,544.55</td>\n",
       "      <td>1,212,244.93</td>\n",
       "      <td>NaN</td>\n",
       "      <td>NaN</td>\n",
       "      <td>NaN</td>\n",
       "    </tr>\n",
       "    <tr>\n",
       "      <th>...</th>\n",
       "      <th>...</th>\n",
       "      <td>...</td>\n",
       "      <td>...</td>\n",
       "      <td>...</td>\n",
       "      <td>...</td>\n",
       "      <td>...</td>\n",
       "      <td>...</td>\n",
       "    </tr>\n",
       "    <tr>\n",
       "      <th rowspan=\"5\" valign=\"top\">United Kingdom</th>\n",
       "      <th>2015</th>\n",
       "      <td>NaN</td>\n",
       "      <td>NaN</td>\n",
       "      <td>NaN</td>\n",
       "      <td>6,032,359.00</td>\n",
       "      <td>3,957,038.46</td>\n",
       "      <td>3,768,210.15</td>\n",
       "    </tr>\n",
       "    <tr>\n",
       "      <th>2016</th>\n",
       "      <td>NaN</td>\n",
       "      <td>NaN</td>\n",
       "      <td>NaN</td>\n",
       "      <td>5,330,003.00</td>\n",
       "      <td>7,634,222.77</td>\n",
       "      <td>7,637,855.95</td>\n",
       "    </tr>\n",
       "    <tr>\n",
       "      <th>2017</th>\n",
       "      <td>NaN</td>\n",
       "      <td>NaN</td>\n",
       "      <td>NaN</td>\n",
       "      <td>5,484,053.00</td>\n",
       "      <td>8,119,198.28</td>\n",
       "      <td>8,123,750.43</td>\n",
       "    </tr>\n",
       "    <tr>\n",
       "      <th>2018</th>\n",
       "      <td>NaN</td>\n",
       "      <td>NaN</td>\n",
       "      <td>NaN</td>\n",
       "      <td>4,492,460.00</td>\n",
       "      <td>8,460,127.02</td>\n",
       "      <td>8,441,275.87</td>\n",
       "    </tr>\n",
       "    <tr>\n",
       "      <th>2019</th>\n",
       "      <td>NaN</td>\n",
       "      <td>NaN</td>\n",
       "      <td>NaN</td>\n",
       "      <td>6,056,984.00</td>\n",
       "      <td>8,221,924.85</td>\n",
       "      <td>8,220,913.23</td>\n",
       "    </tr>\n",
       "  </tbody>\n",
       "</table>\n",
       "<p>288 rows × 6 columns</p>\n",
       "</div>"
      ],
      "text/plain": [
       "                            Actual_train  Predicted_train  \\\n",
       "country_name   TIME_PERIOD                                  \n",
       "Austria        2011         1,544,218.00     1,335,677.58   \n",
       "               2012         1,634,371.00     1,243,499.21   \n",
       "               2013         1,492,799.00     1,024,288.82   \n",
       "               2014         1,641,055.00     1,078,618.07   \n",
       "               2015         2,130,973.00     1,036,544.55   \n",
       "...                                  ...              ...   \n",
       "United Kingdom 2015                  NaN              NaN   \n",
       "               2016                  NaN              NaN   \n",
       "               2017                  NaN              NaN   \n",
       "               2018                  NaN              NaN   \n",
       "               2019                  NaN              NaN   \n",
       "\n",
       "                            Predicted_train_OLS  Actual_test  Predicted_test  \\\n",
       "country_name   TIME_PERIOD                                                     \n",
       "Austria        2011                1,516,917.57          NaN             NaN   \n",
       "               2012                1,416,984.06          NaN             NaN   \n",
       "               2013                1,197,669.29          NaN             NaN   \n",
       "               2014                1,250,880.79          NaN             NaN   \n",
       "               2015                1,212,244.93          NaN             NaN   \n",
       "...                                         ...          ...             ...   \n",
       "United Kingdom 2015                         NaN 6,032,359.00    3,957,038.46   \n",
       "               2016                         NaN 5,330,003.00    7,634,222.77   \n",
       "               2017                         NaN 5,484,053.00    8,119,198.28   \n",
       "               2018                         NaN 4,492,460.00    8,460,127.02   \n",
       "               2019                         NaN 6,056,984.00    8,221,924.85   \n",
       "\n",
       "                            Predicted_test_OLS  \n",
       "country_name   TIME_PERIOD                      \n",
       "Austria        2011                        NaN  \n",
       "               2012                        NaN  \n",
       "               2013                        NaN  \n",
       "               2014                        NaN  \n",
       "               2015                        NaN  \n",
       "...                                        ...  \n",
       "United Kingdom 2015               3,768,210.15  \n",
       "               2016               7,637,855.95  \n",
       "               2017               8,123,750.43  \n",
       "               2018               8,441,275.87  \n",
       "               2019               8,220,913.23  \n",
       "\n",
       "[288 rows x 6 columns]"
      ]
     },
     "execution_count": 42,
     "metadata": {},
     "output_type": "execute_result"
    }
   ],
   "source": [
    "df_test = pd.DataFrame({'Actual_test': y_test, 'Predicted_test': y_pred_test, 'Predicted_test_OLS': y_pred_test_OLS})\n",
    "df_train = pd.DataFrame({'Actual_train': y_train, 'Predicted_train': y_pred_train, 'Predicted_train_OLS': y_pred_train_OLS})\n",
    "df_res = df_train.join(df_test, how='outer')\n",
    "df_res"
   ]
  },
  {
   "cell_type": "markdown",
   "metadata": {},
   "source": [
    "As you can see, pandas joins and orders data correctly according to the index field automatically. Therefore, it is very important to check the index field datatype, especialy when we deal with datatime. \n"
   ]
  },
  {
   "cell_type": "markdown",
   "metadata": {},
   "source": [
    "Let's visualize the data.\n"
   ]
  },
  {
   "cell_type": "code",
   "execution_count": 43,
   "metadata": {
    "tags": []
   },
   "outputs": [
    {
     "data": {
      "image/png": "[encoded data removed]",
      "text/plain": [
       "<Figure size 640x480 with 1 Axes>"
      ]
     },
     "metadata": {},
     "output_type": "display_data"
    }
   ],
   "source": [
    "df_res[['Actual_test', 'Predicted_test', 'Predicted_test_OLS']].plot()\n",
    "plt.xticks(rotation=45)\n",
    "plt.show()"
   ]
  },
  {
   "cell_type": "markdown",
   "metadata": {},
   "source": [
    "You can see that the results of these two models are the same. Also you can see that the forecast on the test data is not perfect. To see the difference between our forecast and the real data, we can use **[seaborn.pairplot()](https://seaborn.pydata.org/generated/seaborn.pairplot.html?utm_medium=Exinfluencer&utm_source=Exinfluencer&utm_content=000026UJ&utm_term=10006555&utm_id=NA-SkillsNetwork-Channel-SkillsNetworkGuidedProjectsdatascienceinagricultureprognosticationusingbyneuralnetwork466-2022-01-01)**.\n"
   ]
  },
  {
   "cell_type": "code",
   "execution_count": 44,
   "metadata": {
    "tags": []
   },
   "outputs": [
    {
     "data": {
      "image/png": "[encoded data removed]",
      "text/plain": [
       "<Figure size 800x800 with 1 Axes>"
      ]
     },
     "metadata": {},
     "output_type": "display_data"
    }
   ],
   "source": [
    "import seaborn as sns\n",
    "sns.pairplot(df_test, x_vars=['Actual_test'], y_vars='Predicted_test',  kind='reg', height = 8)\n",
    "plt.show()"
   ]
  },
  {
   "cell_type": "markdown",
   "metadata": {},
   "source": [
    "The real data values are plotted on the horizontal axis and the predicted ones are plotted on the vertical axis. The closer the result points are to the diagonal, the better the model forecast is. This plot proves our conclusion about the bad forecast quality under this hypothesis. Moreover, in order to make a forecast for the future, you have to know future data for the sales of other pesticides. \n"
   ]
  },
  {
   "cell_type": "markdown",
   "metadata": {},
   "source": [
    "## Artificial Neural Network\n"
   ]
  },
  {
   "cell_type": "markdown",
   "metadata": {},
   "source": [
    "### Creating a linear model using sklearn\n"
   ]
  },
  {
   "cell_type": "markdown",
   "metadata": {},
   "source": [
    "Since the dependence turned out to be nonlinear, we will try to build a nonlinear model based on neural networks. The most popular libraries that allow you to build neural networks include **[scikit-learn](https://scikit-learn.org/stable/index.html?utm_medium=Exinfluencer&utm_source=Exinfluencer&utm_content=000026UJ&utm_term=10006555&utm_id=NA-SkillsNetwork-Channel-SkillsNetworkGuidedProjectsdatascienceinagricultureprognosticationusingbyneuralnetwork466-2022-01-01)** and **[keras](https://keras.io/?utm_medium=Exinfluencer&utm_source=Exinfluencer&utm_content=000026UJ&utm_term=10006555&utm_id=NA-SkillsNetwork-Channel-SkillsNetworkGuidedProjectsdatascienceinagricultureprognosticationusingbyneuralnetwork466-2022-01-01)**.\n",
    "\n",
    "The advantage of these frameworks is that the construction, training and forecasting principles are identical to the linear model. Only the model creation is different. That is an example of polymorphism of OOP.\n"
   ]
  },
  {
   "cell_type": "markdown",
   "metadata": {},
   "source": [
    "Let's create multilayer percepton that consist of 100 neurons in hidden layer, fit it and test.\n"
   ]
  },
  {
   "cell_type": "code",
   "execution_count": 45,
   "metadata": {
    "tags": []
   },
   "outputs": [],
   "source": [
    "from sklearn.neural_network import MLPRegressor\n",
    "regressor = MLPRegressor(random_state=1, max_iter=500)\n",
    "regressor.fit(X_train, y_train)\n",
    "y_pred_test_MLP = regressor.predict(X_test)\n",
    "y_pred_train_MLP = regressor.predict(X_train)"
   ]
  },
  {
   "cell_type": "markdown",
   "metadata": {},
   "source": [
    "Let's calculate the same statistics as in Linear Regression.\n"
   ]
  },
  {
   "cell_type": "code",
   "execution_count": 46,
   "metadata": {
    "tags": []
   },
   "outputs": [
    {
     "name": "stdout",
     "output_type": "stream",
     "text": [
      "Correlation train 0.938401010246439\n",
      "Correlation test 0.822923483030354\n",
      "Mean Absolute Error (train): 1262821.2260743002\n",
      "Mean Absolute Error (test): 2385575.6162727526\n",
      "Mean Squared Error (train): 5310780542694.331\n",
      "Mean Squared Error (test): 19834162790094.742\n",
      "Root Mean Squared Error (train): 2304513.08147607\n",
      "Root Mean Squared Error (test): 4453556.1959062265\n"
     ]
    }
   ],
   "source": [
    "print(\"Correlation train\", regressor.score(X_train, y_train))\n",
    "print(\"Correlation test\", regressor.score(X_test, y_test))\n",
    "print('Mean Absolute Error (train):', metrics.mean_absolute_error(y_train, y_pred_train_MLP))\n",
    "print('Mean Absolute Error (test):', metrics.mean_absolute_error(y_test, y_pred_test_MLP))\n",
    "print('Mean Squared Error (train):', metrics.mean_squared_error(y_train, y_pred_train_MLP))\n",
    "print('Mean Squared Error (test):', metrics.mean_squared_error(y_test, y_pred_test_MLP))\n",
    "print('Root Mean Squared Error (train):', np.sqrt(metrics.mean_squared_error(y_train, y_pred_train_MLP)))\n",
    "print('Root Mean Squared Error (test):', np.sqrt(metrics.mean_squared_error(y_test, y_pred_test_MLP)))"
   ]
  },
  {
   "cell_type": "markdown",
   "metadata": {},
   "source": [
    "<details><summary>Click <b>here</b> for the solution</summary> <code>\n",
    "print(\"Correlation train\", regressor.score(X_train, y_train))\n",
    "print(\"Correlation test\", regressor.score(X_test, y_test))\n",
    "\n",
    "print('Mean Absolute Error (train):', metrics.mean_absolute_error(y_train, y_pred_train_MLP))\n",
    "print('Mean Absolute Error (test):', metrics.mean_absolute_error(y_test, y_pred_test_MLP))\n",
    "print('Mean Squared Error (train):', metrics.mean_squared_error(y_train, y_pred_train_MLP))\n",
    "print('Mean Squared Error (test):', metrics.mean_squared_error(y_test, y_pred_test_MLP))\n",
    "print('Root Mean Squared Error (train):', np.sqrt(metrics.mean_squared_error(y_train, y_pred_train_MLP)))\n",
    "print('Root Mean Squared Error (test):', np.sqrt(metrics.mean_squared_error(y_test, y_pred_test_MLP)))\n",
    "</code></details>\n"
   ]
  },
  {
   "cell_type": "markdown",
   "metadata": {},
   "source": [
    "As you can see, there are much less errors for test than for Linear regression.\n"
   ]
  },
  {
   "cell_type": "markdown",
   "metadata": {},
   "source": [
    "### Creating a linear model using keras\n"
   ]
  },
  {
   "cell_type": "markdown",
   "metadata": {},
   "source": [
    "Let's try to use a more powerful framework **keras**.\n"
   ]
  },
  {
   "cell_type": "markdown",
   "metadata": {},
   "source": [
    "First of all, we should normalize all the data. To do this, the [**sklearn.preprocessing.MinMaxScaler**](https://scikit-learn.org/stable/modules/generated/sklearn.preprocessing.MinMaxScaler.html?utm_medium=Exinfluencer&utm_source=Exinfluencer&utm_content=000026UJ&utm_term=10006555&utm_id=NA-SkillsNetwork-Channel-SkillsNetworkGuidedProjectsdatascienceinagricultureprognosticationusingbyneuralnetwork466-2022-01-01) module should be used. \n",
    "It alows us to normalize [**fit_transform()**](https://scikit-learn.org/stable/modules/generated/sklearn.preprocessing.MinMaxScaler.html?utm_medium=Exinfluencer&utm_source=Exinfluencer&utm_content=000026UJ&utm_term=10006555&utm_id=NA-SkillsNetwork-Channel-SkillsNetworkGuidedProjectsdatascienceinagricultureprognosticationusingbyneuralnetwork466-2022-01-01#sklearn.preprocessing.MinMaxScaler.fit_transform) and convert back all the data easily: [**inverse_transform()**](https://scikit-learn.org/stable/modules/generated/sklearn.preprocessing.MinMaxScaler.html?utm_medium=Exinfluencer&utm_source=Exinfluencer&utm_content=000026UJ&utm_term=10006555&utm_id=NA-SkillsNetwork-Channel-SkillsNetworkGuidedProjectsdatascienceinagricultureprognosticationusingbyneuralnetwork466-2022-01-01#sklearn.preprocessing.MinMaxScaler.inverse_transform).\n"
   ]
  },
  {
   "cell_type": "code",
   "execution_count": 47,
   "metadata": {
    "tags": []
   },
   "outputs": [],
   "source": [
    "from sklearn.preprocessing import MinMaxScaler\n",
    "scaler_x_train = MinMaxScaler(feature_range=(0, 1))\n",
    "scaler_y_train = MinMaxScaler(feature_range=(0, 1))\n",
    "scaler_x_test = MinMaxScaler(feature_range=(0, 1))\n",
    "scaler_y_test = MinMaxScaler(feature_range=(0, 1))\n",
    "\n",
    "# Normilized data\n",
    "scaled_x_train = scaler_x_train.fit_transform(X_train.astype('float64')) \n",
    "scaled_y_train = scaler_y_train.fit_transform(y_train.astype('float64').values.reshape(-1, 1))\n",
    "scaled_x_test = scaler_x_test.fit_transform(X_test.astype('float64'))\n",
    "scaled_y_test = scaler_y_test.fit_transform(y_test.astype('float64').values.reshape(-1, 1))"
   ]
  },
  {
   "cell_type": "markdown",
   "metadata": {},
   "source": [
    "A classical neural network is a [**multilayer neural network with back propagation**](https://en.wikipedia.org/wiki/Backpropagation?utm_medium=Exinfluencer&utm_source=Exinfluencer&utm_content=000026UJ&utm_term=10006555&utm_id=NA-SkillsNetwork-Channel-SkillsNetworkGuidedProjectsdatascienceinagricultureprognosticationusingbyneuralnetwork466-2022-01-01).\n",
    "\n",
    "We will use [**keras**](https://keras.io/?utm_medium=Exinfluencer&utm_source=Exinfluencer&utm_content=000026UJ&utm_term=10006555&utm_id=NA-SkillsNetwork-Channel-SkillsNetworkGuidedProjectsdatascienceinagricultureprognosticationusingbyneuralnetwork466-2022-01-01) framework.\n",
    "First of all, we should create a Neural Network model as separate function.\n",
    "\n",
    "A neural network is a sequence of layers. The function [**Sequential()**](https://keras.io/guides/sequential_model/?utm_medium=Exinfluencer&utm_source=Exinfluencer&utm_content=000026UJ&utm_term=10006555&utm_id=NA-SkillsNetwork-Channel-SkillsNetworkGuidedProjectsdatascienceinagricultureprognosticationusingbyneuralnetwork466-2022-01-01) is used to create a network.\n",
    "\n",
    "Let's create a network that consists of 2 hidden layers each of which consists of 100 neurons. [**keras.layers.Dense()**](https://keras.io/api/layers/core_layers/dense/?utm_medium=Exinfluencer&utm_source=Exinfluencer&utm_content=000026UJ&utm_term=10006555&utm_id=NA-SkillsNetwork-Channel-SkillsNetworkGuidedProjectsdatascienceinagricultureprognosticationusingbyneuralnetwork466-2022-01-01).\n",
    "\n",
    "To avoid retraining problems, we will use additional layers [**keras.layers.Dropout()**](https://keras.io/api/layers/regularization_layers/dropout/?utm_medium=Exinfluencer&utm_source=Exinfluencer&utm_content=000026UJ&utm_term=10006555&utm_id=NA-SkillsNetwork-Channel-SkillsNetworkGuidedProjectsdatascienceinagricultureprognosticationusingbyneuralnetwork466-2022-01-01).\n",
    "\n",
    "The output layer will consist of one neuron since we have only one value at the output.\n",
    "\n",
    "The model should be compiled for fitting and predicting: [**keras.Model.compile()**](https://keras.io/api/models/model_training_apis/?utm_medium=Exinfluencer&utm_source=Exinfluencer&utm_content=000026UJ&utm_term=10006555&utm_id=NA-SkillsNetwork-Channel-SkillsNetworkGuidedProjectsdatascienceinagricultureprognosticationusingbyneuralnetwork466-2022-01-01)\n"
   ]
  },
  {
   "cell_type": "code",
   "execution_count": 48,
   "metadata": {
    "tags": []
   },
   "outputs": [],
   "source": [
    "def BP_model(X):\n",
    "    # create model\n",
    "    model = Sequential()\n",
    "    #model.add(BatchNormalization(input_shape=tuple([X.shape[1]])))\n",
    "    model.add(Dense(100, input_dim=X.shape[1], kernel_initializer='normal', activation='relu'))\n",
    "    model.add(Dropout(0.2))\n",
    "    model.add(Dense(100, kernel_initializer='normal', activation='relu'))\n",
    "    model.add(Dropout(0.2))\n",
    "    model.add(Dense(1, kernel_initializer='normal'))\n",
    "    # Compile model\n",
    "    model.compile(loss='mean_squared_error', optimizer='adam')\n",
    "    return model"
   ]
  },
  {
   "cell_type": "markdown",
   "metadata": {},
   "source": [
    "Once the model function is built, it is necessary to create a neural network directly and specify the learning parameters: [**keras.wrappers.scikit_learn.KerasRegressor()**](https://keras.io/zh/scikit-learn-api/?utm_medium=Exinfluencer&utm_source=Exinfluencer&utm_content=000026UJ&utm_term=10006555&utm_id=NA-SkillsNetwork-Channel-SkillsNetworkGuidedProjectsdatascienceinagricultureprognosticationusingbyneuralnetwork466-2022-01-01). Also we should specify the number of fitting [**epoch and batch size**](https://machinelearningmastery.com/difference-between-a-batch-and-an-epoch/?utm_medium=Exinfluencer&utm_source=Exinfluencer&utm_content=000026UJ&utm_term=10006555&utm_id=NA-SkillsNetwork-Channel-SkillsNetworkGuidedProjectsdatascienceinagricultureprognosticationusingbyneuralnetwork466-2022-01-01).\n"
   ]
  },
  {
   "cell_type": "code",
   "execution_count": 50,
   "metadata": {
    "tags": []
   },
   "outputs": [],
   "source": [
    "from keras.wrappers.scikit_learn import KerasRegressor\n",
    "from keras.models import Sequential\n",
    "from keras.layers import Dense\n",
    "from keras.layers import Dropout\n",
    "epochs = 10\n",
    "\n",
    "batch_size=int(y_train.shape[0]*.1)\n",
    "\n",
    "estimator = KerasRegressor(build_fn=BP_model, X=scaled_x_train, epochs=epochs, batch_size=batch_size, verbose=0)"
   ]
  },
  {
   "cell_type": "markdown",
   "metadata": {},
   "source": [
    "Now, let’s train our model for **10** epochs.\n",
    "It should be noted, that the fitting process is very slow. Therefore we saved our fitted model to a file.\n",
    "To save time, we will upload the fitted model.\n",
    "If you like, you can leave the parameter **fitting on True** to refit your model.\n",
    "If you like, you can leave the parameter **fitting_save on True** to resave your model.\n"
   ]
  },
  {
   "cell_type": "code",
   "execution_count": 52,
   "metadata": {
    "tags": []
   },
   "outputs": [
    {
     "name": "stdout",
     "output_type": "stream",
     "text": [
      "Saved model to disk\n",
      "Loaded model from disk\n"
     ]
    }
   ],
   "source": [
    "fitting = True\n",
    "fitting_save = True\n",
    "\n",
    "\n",
    "import pickle\n",
    "\n",
    "if fitting:\n",
    "    history=estimator.fit(scaled_x_train, scaled_y_train, validation_data=(scaled_x_test, scaled_y_test))\n",
    "    if fitting_save:\n",
    "        estimator.model.save('BP_saved_model.h5')\n",
    "        print(\"Saved model to disk\")\n",
    "        with open('history.pickle', 'wb') as f:\n",
    "            pickle.dump(history.history, f)\n",
    "# load model \n",
    "from keras.models import load_model\n",
    "\n",
    "# Instantiate the model as you please (we are not going to use this)\n",
    "estimator = KerasRegressor(build_fn=BP_model, X=scaled_x_train, epochs=epochs, batch_size=batch_size, verbose=0)\n",
    "# This is where you load the actual saved model into a new variable.\n",
    "estimator.model = load_model('BP_saved_model.h5')    \n",
    "with open('history.pickle', 'rb') as f:\n",
    "    history = pickle.load(f)\n",
    "print(\"Loaded model from disk\")"
   ]
  },
  {
   "cell_type": "markdown",
   "metadata": {},
   "source": [
    "Let's show [**loss and validation loss dynamics**](https://machinelearningmastery.com/learning-curves-for-diagnosing-machine-learning-model-performance/?utm_medium=Exinfluencer&utm_source=Exinfluencer&utm_content=000026UJ&utm_term=10006555&utm_id=NA-SkillsNetwork-Channel-SkillsNetworkGuidedProjectsdatascienceinagricultureprognosticationusingbyneuralnetwork466-2022-01-01).\n"
   ]
  },
  {
   "cell_type": "code",
   "execution_count": 53,
   "metadata": {
    "tags": []
   },
   "outputs": [
    {
     "data": {
      "image/png": "[encoded data removed]",
      "text/plain": [
       "<Figure size 640x480 with 1 Axes>"
      ]
     },
     "metadata": {},
     "output_type": "display_data"
    }
   ],
   "source": [
    "plt.figure()\n",
    "plt.plot(history['loss'], label='train')\n",
    "plt.plot(history['val_loss'], label='test')\n",
    "plt.ylabel('loss')\n",
    "plt.xlabel('epoch')\n",
    "plt.legend()\n",
    "plt.show()"
   ]
  },
  {
   "cell_type": "markdown",
   "metadata": {},
   "source": [
    "As you can see, the Neural Network is fitted well and no overfitting is observed.\n",
    "Let's calculate the prediction of the training (**res_train_ANN**) and test (**res_test_ANN**) sets.\n"
   ]
  },
  {
   "cell_type": "markdown",
   "metadata": {},
   "source": [
    "Let's make a prediction and inverse normalize data.\n"
   ]
  },
  {
   "cell_type": "code",
   "execution_count": 54,
   "metadata": {
    "tags": []
   },
   "outputs": [],
   "source": [
    "res_tr=estimator.predict(scaled_x_train)\n",
    "res_ts=estimator.predict(scaled_x_test)\n",
    "res_train_ANN=scaler_y_train.inverse_transform(res_tr.reshape(-1, 1)).flatten()\n",
    "res_test_ANN=scaler_y_test.inverse_transform(res_ts.reshape(-1, 1)).flatten()"
   ]
  },
  {
   "cell_type": "markdown",
   "metadata": {},
   "source": [
    "Let's calculate the same statistics as in Linear Regression.\n"
   ]
  },
  {
   "cell_type": "code",
   "execution_count": 55,
   "metadata": {
    "tags": []
   },
   "outputs": [
    {
     "name": "stdout",
     "output_type": "stream",
     "text": [
      "Correlation train 0.9693742014310711\n",
      "Correlation test 0.9310898248913885\n",
      "Mean Absolute Error (train): 1221210.7352203825\n",
      "Mean Absolute Error (test): 3204195.702406609\n",
      "Mean Squared Error (train): 4154947013086.518\n",
      "Mean Squared Error (test): 31580606515788.73\n",
      "Root Mean Squared Error (train): 2038368.7137234318\n",
      "Root Mean Squared Error (test): 5619662.491270159\n"
     ]
    }
   ],
   "source": [
    "print(\"Correlation train\", regressor.score(X_train,res_train_ANN ))\n",
    "print(\"Correlation test\", regressor.score(X_test,res_test_ANN))\n",
    "\n",
    "print('Mean Absolute Error (train):', metrics.mean_absolute_error(y_train, res_train_ANN))\n",
    "print('Mean Absolute Error (test):', metrics.mean_absolute_error(y_test, res_test_ANN))\n",
    "print('Mean Squared Error (train):', metrics.mean_squared_error( y_train, res_train_ANN))\n",
    "print('Mean Squared Error (test):', metrics.mean_squared_error( y_test, res_test_ANN))\n",
    "print('Root Mean Squared Error (train):', np.sqrt(metrics.mean_squared_error( y_train, res_train_ANN)))\n",
    "print('Root Mean Squared Error (test):', np.sqrt(metrics.mean_squared_error( y_test, res_test_ANN)))"
   ]
  },
  {
   "cell_type": "markdown",
   "metadata": {},
   "source": [
    "<details><summary>Click <b>here</b> for the solution</summary> <code>\n",
    "print(\"Correlation train\", regressor.score(X_train, res_train_ANN))\n",
    "print(\"Correlation test\", regressor.score(X_test, res_test_ANN))\n",
    "\n",
    "print('Mean Absolute Error (train):', metrics.mean_absolute_error(y_train, res_train_ANN))\n",
    "print('Mean Absolute Error (test):', metrics.mean_absolute_error(y_test, res_test_ANN))\n",
    "print('Mean Squared Error (train):', metrics.mean_squared_error(y_train, res_train_ANN))\n",
    "print('Mean Squared Error (test):', metrics.mean_squared_error(y_test, res_test_ANN))\n",
    "print('Root Mean Squared Error (train):', np.sqrt(metrics.mean_squared_error(y_train, res_train_ANN)))\n",
    "print('Root Mean Squared Error (test):', np.sqrt(metrics.mean_squared_error(y_test, res_test_ANN)))\n",
    "</code></details>\n"
   ]
  },
  {
   "cell_type": "markdown",
   "metadata": {},
   "source": [
    "As you can see, the correlation is better than for the previous NN but the error is worse. Let's visualize the data for comparison.\n"
   ]
  },
  {
   "cell_type": "code",
   "execution_count": 56,
   "metadata": {
    "tags": []
   },
   "outputs": [
    {
     "data": {
      "text/html": [
       "<div>\n",
       "<style scoped>\n",
       "    .dataframe tbody tr th:only-of-type {\n",
       "        vertical-align: middle;\n",
       "    }\n",
       "\n",
       "    .dataframe tbody tr th {\n",
       "        vertical-align: top;\n",
       "    }\n",
       "\n",
       "    .dataframe thead th {\n",
       "        text-align: right;\n",
       "    }\n",
       "</style>\n",
       "<table border=\"1\" class=\"dataframe\">\n",
       "  <thead>\n",
       "    <tr style=\"text-align: right;\">\n",
       "      <th></th>\n",
       "      <th></th>\n",
       "      <th>Actual_train</th>\n",
       "      <th>Predicted_train</th>\n",
       "      <th>Predicted_train_MLP</th>\n",
       "      <th>Predicted_train_ANN</th>\n",
       "      <th>Actual_test</th>\n",
       "      <th>Predicted_test</th>\n",
       "      <th>Predicted_test_MLP</th>\n",
       "      <th>Predicted_test_ANN</th>\n",
       "    </tr>\n",
       "    <tr>\n",
       "      <th>country_name</th>\n",
       "      <th>TIME_PERIOD</th>\n",
       "      <th></th>\n",
       "      <th></th>\n",
       "      <th></th>\n",
       "      <th></th>\n",
       "      <th></th>\n",
       "      <th></th>\n",
       "      <th></th>\n",
       "      <th></th>\n",
       "    </tr>\n",
       "  </thead>\n",
       "  <tbody>\n",
       "    <tr>\n",
       "      <th rowspan=\"5\" valign=\"top\">Austria</th>\n",
       "      <th>2011</th>\n",
       "      <td>1,544,218.00</td>\n",
       "      <td>1,335,677.58</td>\n",
       "      <td>1,254,210.30</td>\n",
       "      <td>215,318.52</td>\n",
       "      <td>NaN</td>\n",
       "      <td>NaN</td>\n",
       "      <td>NaN</td>\n",
       "      <td>NaN</td>\n",
       "    </tr>\n",
       "    <tr>\n",
       "      <th>2012</th>\n",
       "      <td>1,634,371.00</td>\n",
       "      <td>1,243,499.21</td>\n",
       "      <td>1,255,725.26</td>\n",
       "      <td>142,383.25</td>\n",
       "      <td>NaN</td>\n",
       "      <td>NaN</td>\n",
       "      <td>NaN</td>\n",
       "      <td>NaN</td>\n",
       "    </tr>\n",
       "    <tr>\n",
       "      <th>2013</th>\n",
       "      <td>1,492,799.00</td>\n",
       "      <td>1,024,288.82</td>\n",
       "      <td>1,049,268.12</td>\n",
       "      <td>41,131.57</td>\n",
       "      <td>NaN</td>\n",
       "      <td>NaN</td>\n",
       "      <td>NaN</td>\n",
       "      <td>NaN</td>\n",
       "    </tr>\n",
       "    <tr>\n",
       "      <th>2014</th>\n",
       "      <td>1,641,055.00</td>\n",
       "      <td>1,078,618.07</td>\n",
       "      <td>1,120,825.17</td>\n",
       "      <td>56,318.00</td>\n",
       "      <td>NaN</td>\n",
       "      <td>NaN</td>\n",
       "      <td>NaN</td>\n",
       "      <td>NaN</td>\n",
       "    </tr>\n",
       "    <tr>\n",
       "      <th>2015</th>\n",
       "      <td>2,130,973.00</td>\n",
       "      <td>1,036,544.55</td>\n",
       "      <td>1,083,609.05</td>\n",
       "      <td>81,962.59</td>\n",
       "      <td>NaN</td>\n",
       "      <td>NaN</td>\n",
       "      <td>NaN</td>\n",
       "      <td>NaN</td>\n",
       "    </tr>\n",
       "    <tr>\n",
       "      <th>...</th>\n",
       "      <th>...</th>\n",
       "      <td>...</td>\n",
       "      <td>...</td>\n",
       "      <td>...</td>\n",
       "      <td>...</td>\n",
       "      <td>...</td>\n",
       "      <td>...</td>\n",
       "      <td>...</td>\n",
       "      <td>...</td>\n",
       "    </tr>\n",
       "    <tr>\n",
       "      <th rowspan=\"5\" valign=\"top\">United Kingdom</th>\n",
       "      <th>2015</th>\n",
       "      <td>NaN</td>\n",
       "      <td>NaN</td>\n",
       "      <td>NaN</td>\n",
       "      <td>NaN</td>\n",
       "      <td>6,032,359.00</td>\n",
       "      <td>3,957,038.46</td>\n",
       "      <td>8,853,410.81</td>\n",
       "      <td>13,807,329.00</td>\n",
       "    </tr>\n",
       "    <tr>\n",
       "      <th>2016</th>\n",
       "      <td>NaN</td>\n",
       "      <td>NaN</td>\n",
       "      <td>NaN</td>\n",
       "      <td>NaN</td>\n",
       "      <td>5,330,003.00</td>\n",
       "      <td>7,634,222.77</td>\n",
       "      <td>7,650,703.43</td>\n",
       "      <td>7,089,468.00</td>\n",
       "    </tr>\n",
       "    <tr>\n",
       "      <th>2017</th>\n",
       "      <td>NaN</td>\n",
       "      <td>NaN</td>\n",
       "      <td>NaN</td>\n",
       "      <td>NaN</td>\n",
       "      <td>5,484,053.00</td>\n",
       "      <td>8,119,198.28</td>\n",
       "      <td>7,931,448.15</td>\n",
       "      <td>7,354,449.00</td>\n",
       "    </tr>\n",
       "    <tr>\n",
       "      <th>2018</th>\n",
       "      <td>NaN</td>\n",
       "      <td>NaN</td>\n",
       "      <td>NaN</td>\n",
       "      <td>NaN</td>\n",
       "      <td>4,492,460.00</td>\n",
       "      <td>8,460,127.02</td>\n",
       "      <td>8,532,962.20</td>\n",
       "      <td>8,028,585.00</td>\n",
       "    </tr>\n",
       "    <tr>\n",
       "      <th>2019</th>\n",
       "      <td>NaN</td>\n",
       "      <td>NaN</td>\n",
       "      <td>NaN</td>\n",
       "      <td>NaN</td>\n",
       "      <td>6,056,984.00</td>\n",
       "      <td>8,221,924.85</td>\n",
       "      <td>8,104,422.61</td>\n",
       "      <td>7,491,767.00</td>\n",
       "    </tr>\n",
       "  </tbody>\n",
       "</table>\n",
       "<p>288 rows × 8 columns</p>\n",
       "</div>"
      ],
      "text/plain": [
       "                            Actual_train  Predicted_train  \\\n",
       "country_name   TIME_PERIOD                                  \n",
       "Austria        2011         1,544,218.00     1,335,677.58   \n",
       "               2012         1,634,371.00     1,243,499.21   \n",
       "               2013         1,492,799.00     1,024,288.82   \n",
       "               2014         1,641,055.00     1,078,618.07   \n",
       "               2015         2,130,973.00     1,036,544.55   \n",
       "...                                  ...              ...   \n",
       "United Kingdom 2015                  NaN              NaN   \n",
       "               2016                  NaN              NaN   \n",
       "               2017                  NaN              NaN   \n",
       "               2018                  NaN              NaN   \n",
       "               2019                  NaN              NaN   \n",
       "\n",
       "                            Predicted_train_MLP  Predicted_train_ANN  \\\n",
       "country_name   TIME_PERIOD                                             \n",
       "Austria        2011                1,254,210.30           215,318.52   \n",
       "               2012                1,255,725.26           142,383.25   \n",
       "               2013                1,049,268.12            41,131.57   \n",
       "               2014                1,120,825.17            56,318.00   \n",
       "               2015                1,083,609.05            81,962.59   \n",
       "...                                         ...                  ...   \n",
       "United Kingdom 2015                         NaN                  NaN   \n",
       "               2016                         NaN                  NaN   \n",
       "               2017                         NaN                  NaN   \n",
       "               2018                         NaN                  NaN   \n",
       "               2019                         NaN                  NaN   \n",
       "\n",
       "                            Actual_test  Predicted_test  Predicted_test_MLP  \\\n",
       "country_name   TIME_PERIOD                                                    \n",
       "Austria        2011                 NaN             NaN                 NaN   \n",
       "               2012                 NaN             NaN                 NaN   \n",
       "               2013                 NaN             NaN                 NaN   \n",
       "               2014                 NaN             NaN                 NaN   \n",
       "               2015                 NaN             NaN                 NaN   \n",
       "...                                 ...             ...                 ...   \n",
       "United Kingdom 2015        6,032,359.00    3,957,038.46        8,853,410.81   \n",
       "               2016        5,330,003.00    7,634,222.77        7,650,703.43   \n",
       "               2017        5,484,053.00    8,119,198.28        7,931,448.15   \n",
       "               2018        4,492,460.00    8,460,127.02        8,532,962.20   \n",
       "               2019        6,056,984.00    8,221,924.85        8,104,422.61   \n",
       "\n",
       "                            Predicted_test_ANN  \n",
       "country_name   TIME_PERIOD                      \n",
       "Austria        2011                        NaN  \n",
       "               2012                        NaN  \n",
       "               2013                        NaN  \n",
       "               2014                        NaN  \n",
       "               2015                        NaN  \n",
       "...                                        ...  \n",
       "United Kingdom 2015              13,807,329.00  \n",
       "               2016               7,089,468.00  \n",
       "               2017               7,354,449.00  \n",
       "               2018               8,028,585.00  \n",
       "               2019               7,491,767.00  \n",
       "\n",
       "[288 rows x 8 columns]"
      ]
     },
     "execution_count": 56,
     "metadata": {},
     "output_type": "execute_result"
    }
   ],
   "source": [
    "df_test = pd.DataFrame({'Actual_test': y_test, 'Predicted_test': y_pred_test, 'Predicted_test_MLP': y_pred_test_MLP, 'Predicted_test_ANN': res_test_ANN})\n",
    "df_train = pd.DataFrame({'Actual_train': y_train, 'Predicted_train': y_pred_train, 'Predicted_train_MLP': y_pred_train_MLP, 'Predicted_train_ANN': res_train_ANN})\n",
    "df_res = df_train.join(df_test, how='outer')\n",
    "df_res"
   ]
  },
  {
   "cell_type": "code",
   "execution_count": 57,
   "metadata": {
    "tags": []
   },
   "outputs": [
    {
     "data": {
      "image/png": "[encoded data removed]",
      "text/plain": [
       "<Figure size 640x480 with 1 Axes>"
      ]
     },
     "metadata": {},
     "output_type": "display_data"
    }
   ],
   "source": [
    "df_res[['Actual_test', 'Predicted_test', 'Predicted_test_MLP', 'Predicted_test_ANN', ]].plot()\n",
    "plt.xticks(rotation=45)\n",
    "plt.show()"
   ]
  },
  {
   "cell_type": "code",
   "execution_count": 58,
   "metadata": {
    "tags": []
   },
   "outputs": [
    {
     "data": {
      "image/png": "[encoded data removed]",
      "text/plain": [
       "<Figure size 800x800 with 1 Axes>"
      ]
     },
     "metadata": {},
     "output_type": "display_data"
    }
   ],
   "source": [
    "sns.pairplot(df_test, x_vars=['Actual_test'], y_vars='Predicted_test_ANN',  kind='reg', height = 8)\n",
    "plt.show()"
   ]
  },
  {
   "cell_type": "markdown",
   "metadata": {},
   "source": [
    "As you can see, an ANN shows better results.\n"
   ]
  },
  {
   "cell_type": "markdown",
   "metadata": {},
   "source": [
    "## Conclusions\n"
   ]
  },
  {
   "cell_type": "markdown",
   "metadata": {},
   "source": [
    "In this lab work, we have learned how to build hypotheses for forecasting models. We have transformed DataSets for input-output models. We have learned how to divide DataSets into training and test sets and normaliza data. The Linear regression and Neuro Network models have been created, fitted and tested in this lab.\n"
   ]
  },
  {
   "cell_type": "markdown",
   "metadata": {},
   "source": [
    "## Authors\n"
   ]
  },
  {
   "cell_type": "markdown",
   "metadata": {},
   "source": [
    "[Yaroslav Vyklyuk, prof., PhD., DrSc](https://author.skills.network/instructors/yaroslav_vyklyuk_2)\n"
   ]
  },
  {
   "cell_type": "markdown",
   "metadata": {},
   "source": [
    " Copyright &copy; 2020 IBM Corporation. This notebook and its source code are released under the terms of the [MIT License](https://cognitiveclass.ai/mit-license/?utm_medium=Exinfluencer&utm_source=Exinfluencer&utm_content=000026UJ&utm_term=10006555&utm_id=NA-SkillsNetwork-Channel-SkillsNetworkGuidedProjectsdatascienceinagricultureprognosticationusingbyneuralnetwork466-2022-01-01).\n"
   ]
  }
 ],
 "metadata": {
  "kernelspec": {
   "display_name": "Python",
   "language": "python",
   "name": "conda-env-python-py"
  },
  "language_info": {
   "codemirror_mode": {
    "name": "ipython",
    "version": 3
   },
   "file_extension": ".py",
   "mimetype": "text/x-python",
   "name": "python",
   "nbconvert_exporter": "python",
   "pygments_lexer": "ipython3",
   "version": "3.7.12"
  }
 },
 "nbformat": 4,
 "nbformat_minor": 4
}
